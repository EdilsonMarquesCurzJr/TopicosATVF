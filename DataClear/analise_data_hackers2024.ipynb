{
 "cells": [
  {
   "cell_type": "markdown",
   "metadata": {
    "id": "o_gd7cx0F4xE"
   },
   "source": [
    "# ANÁLISE DATA HACKERS 2024-2025\n",
    "\n",
    "> Script de limpeza e tratamento do dataset sobre a pesquisa de mercado de dados realizado pela Data Hackers, presente no [kaggle](https://www.kaggle.com/datasets/datahackers/state-of-data-brazil-20242025/data)."
   ]
  },
  {
   "cell_type": "markdown",
   "metadata": {
    "id": "dnNqDAneGyO0"
   },
   "source": [
    "## 1) Imports"
   ]
  },
  {
   "cell_type": "code",
   "execution_count": 45,
   "metadata": {
    "colab": {
     "base_uri": "https://localhost:8080/"
    },
    "id": "hFGOCBKTGEsE",
    "outputId": "be60ed7b-f6e0-4ad8-8829-ca9874cd30ee"
   },
   "outputs": [
    {
     "data": {
      "text/html": [
       "<div>\n",
       "<style scoped>\n",
       "    .dataframe tbody tr th:only-of-type {\n",
       "        vertical-align: middle;\n",
       "    }\n",
       "\n",
       "    .dataframe tbody tr th {\n",
       "        vertical-align: top;\n",
       "    }\n",
       "\n",
       "    .dataframe thead th {\n",
       "        text-align: right;\n",
       "    }\n",
       "</style>\n",
       "<table border=\"1\" class=\"dataframe\">\n",
       "  <thead>\n",
       "    <tr style=\"text-align: right;\">\n",
       "      <th></th>\n",
       "      <th>0.a_token</th>\n",
       "      <th>0.d_data/hora_envio</th>\n",
       "      <th>1.a_idade</th>\n",
       "      <th>1.a.1_faixa_idade</th>\n",
       "      <th>1.b_genero</th>\n",
       "      <th>1.c_cor/raca/etnia</th>\n",
       "      <th>1.d_pcd</th>\n",
       "      <th>1.e_experiencia_profissional_prejudicada</th>\n",
       "      <th>1.e.1_Não acredito que minha experiência profissional seja afetada</th>\n",
       "      <th>1.e.2_Sim, devido a minha Cor/Raça/Etnia</th>\n",
       "      <th>...</th>\n",
       "      <th>8.d.3_Entrando em contato com os times de negócio para definição do problema, identificar a solução e apresentação de resultados.</th>\n",
       "      <th>8.d.4_Desenvolvendo modelos de Machine Learning com o objetivo de colocar em produção em sistemas (produtos de dados).</th>\n",
       "      <th>8.d.5_Colocando modelos em produção, criando os pipelines de dados, APIs de consumo e monitoramento.</th>\n",
       "      <th>8.d.6_Cuidando da manutenção de modelos de Machine Learning já em produção, atuando no monitoramento, ajustes e refatoração quando necessário.</th>\n",
       "      <th>8.d.7_Realizando construções de dashboards em ferramentas de BI como PowerBI, Tableau, Looker, Qlik, etc.</th>\n",
       "      <th>8.d.8_Utilizando ferramentas avançadas de estatística como SAS, SPSS, Stata etc, para realizar análises.</th>\n",
       "      <th>8.d.9_Criando e dando manutenção em ETLs, DAGs e automações de pipelines de dados.</th>\n",
       "      <th>8.d.10_Criando e gerenciando soluções de Feature Store e cultura de MLOps.</th>\n",
       "      <th>8.d.11_Criando e mantendo a infra que meus modelos e soluções rodam (clusters, servidores, API, containers, etc.)</th>\n",
       "      <th>8.d.12_Treinando e aplicando LLM's para solucionar problemas de negócio.</th>\n",
       "    </tr>\n",
       "  </thead>\n",
       "  <tbody>\n",
       "    <tr>\n",
       "      <th>0</th>\n",
       "      <td>reb94rv0msth7q4nreb94riaq80iz3yi</td>\n",
       "      <td>16/10/2024 11:19:17</td>\n",
       "      <td>18</td>\n",
       "      <td>17-21</td>\n",
       "      <td>Masculino</td>\n",
       "      <td>Branca</td>\n",
       "      <td>Não</td>\n",
       "      <td>NaN</td>\n",
       "      <td>NaN</td>\n",
       "      <td>NaN</td>\n",
       "      <td>...</td>\n",
       "      <td>NaN</td>\n",
       "      <td>NaN</td>\n",
       "      <td>NaN</td>\n",
       "      <td>NaN</td>\n",
       "      <td>NaN</td>\n",
       "      <td>NaN</td>\n",
       "      <td>NaN</td>\n",
       "      <td>NaN</td>\n",
       "      <td>NaN</td>\n",
       "      <td>NaN</td>\n",
       "    </tr>\n",
       "    <tr>\n",
       "      <th>1</th>\n",
       "      <td>1zc66g69jjt49y32l1zc66g8wqj79m4e</td>\n",
       "      <td>16/10/2024 20:45:31</td>\n",
       "      <td>18</td>\n",
       "      <td>17-21</td>\n",
       "      <td>Masculino</td>\n",
       "      <td>Branca</td>\n",
       "      <td>Não</td>\n",
       "      <td>NaN</td>\n",
       "      <td>NaN</td>\n",
       "      <td>NaN</td>\n",
       "      <td>...</td>\n",
       "      <td>NaN</td>\n",
       "      <td>NaN</td>\n",
       "      <td>NaN</td>\n",
       "      <td>NaN</td>\n",
       "      <td>NaN</td>\n",
       "      <td>NaN</td>\n",
       "      <td>NaN</td>\n",
       "      <td>NaN</td>\n",
       "      <td>NaN</td>\n",
       "      <td>NaN</td>\n",
       "    </tr>\n",
       "    <tr>\n",
       "      <th>2</th>\n",
       "      <td>uu99wmam4n5kc2uu99wmydf0rk7l58f7</td>\n",
       "      <td>17/10/2024 18:10:59</td>\n",
       "      <td>18</td>\n",
       "      <td>17-21</td>\n",
       "      <td>Masculino</td>\n",
       "      <td>Parda</td>\n",
       "      <td>Não</td>\n",
       "      <td>Não acredito que minha experiência profissiona...</td>\n",
       "      <td>1.0</td>\n",
       "      <td>0.0</td>\n",
       "      <td>...</td>\n",
       "      <td>NaN</td>\n",
       "      <td>NaN</td>\n",
       "      <td>NaN</td>\n",
       "      <td>NaN</td>\n",
       "      <td>NaN</td>\n",
       "      <td>NaN</td>\n",
       "      <td>NaN</td>\n",
       "      <td>NaN</td>\n",
       "      <td>NaN</td>\n",
       "      <td>NaN</td>\n",
       "    </tr>\n",
       "    <tr>\n",
       "      <th>3</th>\n",
       "      <td>3ynsw7z0hl5hhpbfvaeqk73ynsw7z04l</td>\n",
       "      <td>22/10/2024 18:03:00</td>\n",
       "      <td>18</td>\n",
       "      <td>17-21</td>\n",
       "      <td>Masculino</td>\n",
       "      <td>Branca</td>\n",
       "      <td>Não</td>\n",
       "      <td>NaN</td>\n",
       "      <td>NaN</td>\n",
       "      <td>NaN</td>\n",
       "      <td>...</td>\n",
       "      <td>NaN</td>\n",
       "      <td>NaN</td>\n",
       "      <td>NaN</td>\n",
       "      <td>NaN</td>\n",
       "      <td>NaN</td>\n",
       "      <td>NaN</td>\n",
       "      <td>NaN</td>\n",
       "      <td>NaN</td>\n",
       "      <td>NaN</td>\n",
       "      <td>NaN</td>\n",
       "    </tr>\n",
       "    <tr>\n",
       "      <th>4</th>\n",
       "      <td>v6bji2ct5xckpl1uouv6bjiotkrf3b4f</td>\n",
       "      <td>23/10/2024 01:33:23</td>\n",
       "      <td>18</td>\n",
       "      <td>17-21</td>\n",
       "      <td>Masculino</td>\n",
       "      <td>Branca</td>\n",
       "      <td>Não</td>\n",
       "      <td>NaN</td>\n",
       "      <td>NaN</td>\n",
       "      <td>NaN</td>\n",
       "      <td>...</td>\n",
       "      <td>NaN</td>\n",
       "      <td>NaN</td>\n",
       "      <td>NaN</td>\n",
       "      <td>NaN</td>\n",
       "      <td>NaN</td>\n",
       "      <td>NaN</td>\n",
       "      <td>NaN</td>\n",
       "      <td>NaN</td>\n",
       "      <td>NaN</td>\n",
       "      <td>NaN</td>\n",
       "    </tr>\n",
       "  </tbody>\n",
       "</table>\n",
       "<p>5 rows × 403 columns</p>\n",
       "</div>"
      ],
      "text/plain": [
       "                          0.a_token  0.d_data/hora_envio  1.a_idade  \\\n",
       "0  reb94rv0msth7q4nreb94riaq80iz3yi  16/10/2024 11:19:17         18   \n",
       "1  1zc66g69jjt49y32l1zc66g8wqj79m4e  16/10/2024 20:45:31         18   \n",
       "2  uu99wmam4n5kc2uu99wmydf0rk7l58f7  17/10/2024 18:10:59         18   \n",
       "3  3ynsw7z0hl5hhpbfvaeqk73ynsw7z04l  22/10/2024 18:03:00         18   \n",
       "4  v6bji2ct5xckpl1uouv6bjiotkrf3b4f  23/10/2024 01:33:23         18   \n",
       "\n",
       "  1.a.1_faixa_idade 1.b_genero 1.c_cor/raca/etnia 1.d_pcd  \\\n",
       "0             17-21  Masculino             Branca     Não   \n",
       "1             17-21  Masculino             Branca     Não   \n",
       "2             17-21  Masculino              Parda     Não   \n",
       "3             17-21  Masculino             Branca     Não   \n",
       "4             17-21  Masculino             Branca     Não   \n",
       "\n",
       "            1.e_experiencia_profissional_prejudicada  \\\n",
       "0                                                NaN   \n",
       "1                                                NaN   \n",
       "2  Não acredito que minha experiência profissiona...   \n",
       "3                                                NaN   \n",
       "4                                                NaN   \n",
       "\n",
       "   1.e.1_Não acredito que minha experiência profissional seja afetada  \\\n",
       "0                                                NaN                    \n",
       "1                                                NaN                    \n",
       "2                                                1.0                    \n",
       "3                                                NaN                    \n",
       "4                                                NaN                    \n",
       "\n",
       "   1.e.2_Sim, devido a minha Cor/Raça/Etnia  ...  \\\n",
       "0                                       NaN  ...   \n",
       "1                                       NaN  ...   \n",
       "2                                       0.0  ...   \n",
       "3                                       NaN  ...   \n",
       "4                                       NaN  ...   \n",
       "\n",
       "   8.d.3_Entrando em contato com os times de negócio para definição do problema, identificar a solução e apresentação de resultados.  \\\n",
       "0                                                NaN                                                                                   \n",
       "1                                                NaN                                                                                   \n",
       "2                                                NaN                                                                                   \n",
       "3                                                NaN                                                                                   \n",
       "4                                                NaN                                                                                   \n",
       "\n",
       "   8.d.4_Desenvolvendo modelos de Machine Learning com o objetivo de colocar em produção em sistemas (produtos de dados).  \\\n",
       "0                                                NaN                                                                        \n",
       "1                                                NaN                                                                        \n",
       "2                                                NaN                                                                        \n",
       "3                                                NaN                                                                        \n",
       "4                                                NaN                                                                        \n",
       "\n",
       "  8.d.5_Colocando modelos em produção, criando os pipelines de dados, APIs de consumo e monitoramento.  \\\n",
       "0                                                NaN                                                     \n",
       "1                                                NaN                                                     \n",
       "2                                                NaN                                                     \n",
       "3                                                NaN                                                     \n",
       "4                                                NaN                                                     \n",
       "\n",
       "   8.d.6_Cuidando da manutenção de modelos de Machine Learning já em produção, atuando no monitoramento, ajustes e refatoração quando necessário.  \\\n",
       "0                                                NaN                                                                                                \n",
       "1                                                NaN                                                                                                \n",
       "2                                                NaN                                                                                                \n",
       "3                                                NaN                                                                                                \n",
       "4                                                NaN                                                                                                \n",
       "\n",
       "   8.d.7_Realizando construções de dashboards em ferramentas de BI como PowerBI, Tableau, Looker, Qlik, etc.  \\\n",
       "0                                                NaN                                                           \n",
       "1                                                NaN                                                           \n",
       "2                                                NaN                                                           \n",
       "3                                                NaN                                                           \n",
       "4                                                NaN                                                           \n",
       "\n",
       "   8.d.8_Utilizando ferramentas avançadas de estatística como SAS, SPSS, Stata etc, para realizar análises.  \\\n",
       "0                                                NaN                                                          \n",
       "1                                                NaN                                                          \n",
       "2                                                NaN                                                          \n",
       "3                                                NaN                                                          \n",
       "4                                                NaN                                                          \n",
       "\n",
       "   8.d.9_Criando e dando manutenção em ETLs, DAGs e automações de pipelines de dados.  \\\n",
       "0                                                NaN                                    \n",
       "1                                                NaN                                    \n",
       "2                                                NaN                                    \n",
       "3                                                NaN                                    \n",
       "4                                                NaN                                    \n",
       "\n",
       "   8.d.10_Criando e gerenciando soluções de Feature Store e cultura de MLOps.  \\\n",
       "0                                                NaN                            \n",
       "1                                                NaN                            \n",
       "2                                                NaN                            \n",
       "3                                                NaN                            \n",
       "4                                                NaN                            \n",
       "\n",
       "   8.d.11_Criando e mantendo a infra que meus modelos e soluções rodam (clusters, servidores, API, containers, etc.)  \\\n",
       "0                                                NaN                                                                   \n",
       "1                                                NaN                                                                   \n",
       "2                                                NaN                                                                   \n",
       "3                                                NaN                                                                   \n",
       "4                                                NaN                                                                   \n",
       "\n",
       "   8.d.12_Treinando e aplicando LLM's para solucionar problemas de negócio.  \n",
       "0                                                NaN                         \n",
       "1                                                NaN                         \n",
       "2                                                NaN                         \n",
       "3                                                NaN                         \n",
       "4                                                NaN                         \n",
       "\n",
       "[5 rows x 403 columns]"
      ]
     },
     "execution_count": 45,
     "metadata": {},
     "output_type": "execute_result"
    }
   ],
   "source": [
    "# Import de bibliotecas\n",
    "import pandas as pd\n",
    "import missingno as msno\n",
    "import numpy as np\n",
    "import matplotlib.pyplot as plt\n",
    "import seaborn as sns\n",
    "import kagglehub\n",
    "import os\n",
    "\n",
    "\n",
    "# Import dos dados do Kaggle\n",
    "path = kagglehub.dataset_download(\"datahackers/state-of-data-brazil-20242025\")\n",
    "df = pd.read_csv(path + \"/Final Dataset - State of Data 2024 - Kaggle - df_survey_2024.csv\", low_memory=False)\n",
    "df.head()\n"
   ]
  },
  {
   "cell_type": "markdown",
   "metadata": {
    "id": "-uzmKrQrJy3u"
   },
   "source": [
    "> Como o conjunto de dados possui uma grande quantidade de colunas, devemos particioná-lo de forma a definir colunas úteis com base em cada agrupamento funcional de conjunto de features."
   ]
  },
  {
   "cell_type": "markdown",
   "metadata": {
    "id": "-glRxop6KN3l"
   },
   "source": [
    "## 2) Tratamento"
   ]
  },
  {
   "cell_type": "markdown",
   "metadata": {
    "id": "kpX8yRclKS3b"
   },
   "source": [
    "### Particionamento dos dados"
   ]
  },
  {
   "cell_type": "code",
   "execution_count": 46,
   "metadata": {
    "id": "1pA6jGO6F7_D"
   },
   "outputs": [],
   "source": [
    "# Função para particionar com base nos 8 grupos de atributos\n",
    "def particionar_df(dataframe, num_partes=8):\n",
    "    dataframes = []\n",
    "    for i in range(1, num_partes + 1):\n",
    "        # Pega as colunas que começam com o número i + as que começam com '0'\n",
    "        colunas = [col for col in dataframe.columns if col.startswith(str(i)) or col.startswith('0')]\n",
    "        df_parte = dataframe[colunas]\n",
    "        dataframes.append(df_parte)\n",
    "    return dataframes\n",
    "\n",
    "parte1, parte2, parte3, parte4, parte5, parte6, parte7, parte8 = particionar_df(df)"
   ]
  },
  {
   "cell_type": "markdown",
   "metadata": {
    "id": "SMIsAse_LEUE"
   },
   "source": [
    "> Neste caso, conforme a própria [documentação](https://www.kaggle.com/datasets/datahackers/state-of-data-brazil-20242025/data), muitas das 400 colunas originais vieram de perguntas com múltiplas alternativas, convertidas via **one hot encoding**\n",
    "\n",
    "> Se faz necessária a análise das partições para seleção de colunas úteis para restrição do escopo"
   ]
  },
  {
   "cell_type": "markdown",
   "metadata": {
    "id": "0z-aEXgNTMsu"
   },
   "source": [
    "### Separando colunas úteis das partições"
   ]
  },
  {
   "cell_type": "code",
   "execution_count": 47,
   "metadata": {
    "id": "mCa_MkCOS3md"
   },
   "outputs": [],
   "source": [
    "colunas_uteis = ['0.a_token']"
   ]
  },
  {
   "cell_type": "markdown",
   "metadata": {
    "id": "92a6ke-_KnWt"
   },
   "source": [
    "#### Parte 1"
   ]
  },
  {
   "cell_type": "code",
   "execution_count": 48,
   "metadata": {
    "colab": {
     "base_uri": "https://localhost:8080/"
    },
    "id": "J0Ktcg_JKezU",
    "outputId": "84595fb7-5210-4c5f-f71a-f4106e143eff"
   },
   "outputs": [
    {
     "name": "stdout",
     "output_type": "stream",
     "text": [
      "<class 'pandas.core.frame.DataFrame'>\n",
      "RangeIndex: 5217 entries, 0 to 5216\n",
      "Data columns (total 33 columns):\n",
      " #   Column                                                                                                     Non-Null Count  Dtype  \n",
      "---  ------                                                                                                     --------------  -----  \n",
      " 0   0.a_token                                                                                                  5217 non-null   object \n",
      " 1   0.d_data/hora_envio                                                                                        5217 non-null   object \n",
      " 2   1.a_idade                                                                                                  5217 non-null   int64  \n",
      " 3   1.a.1_faixa_idade                                                                                          5217 non-null   object \n",
      " 4   1.b_genero                                                                                                 5217 non-null   object \n",
      " 5   1.c_cor/raca/etnia                                                                                         5217 non-null   object \n",
      " 6   1.d_pcd                                                                                                    5217 non-null   object \n",
      " 7   1.e_experiencia_profissional_prejudicada                                                                   2641 non-null   object \n",
      " 8   1.e.1_Não acredito que minha experiência profissional seja afetada                                         2641 non-null   float64\n",
      " 9   1.e.2_Sim, devido a minha Cor/Raça/Etnia                                                                   2641 non-null   float64\n",
      " 10  1.e.3_Sim, devido a minha identidade de gênero                                                             2641 non-null   float64\n",
      " 11  1.e.4_Sim, devido ao fato de ser PCD                                                                       2641 non-null   float64\n",
      " 12  1.i.1_uf_onde_mora                                                                                         5075 non-null   object \n",
      " 13  1.f.1_Quantidade de oportunidades de emprego/vagas recebidas                                               1289 non-null   float64\n",
      " 14  1.f.2_Senioridade das vagas recebidas em relação à sua experiência                                         1289 non-null   float64\n",
      " 15  1.f.3_Aprovação em processos seletivos/entrevistas                                                         1289 non-null   float64\n",
      " 16  1.f.4_Oportunidades de progressão de carreira                                                              1289 non-null   float64\n",
      " 17  1.f.5_Velocidade de progressão de carreira                                                                 1289 non-null   float64\n",
      " 18  1.f.6_Nível de cobrança no trabalho/Stress no trabalho                                                     1289 non-null   float64\n",
      " 19  1.f.7_Atenção dada pelas pessoas diante das minhas opiniões e ideias                                       1289 non-null   float64\n",
      " 20  1.f.8_Relação com outras pessoas da empresa, em momentos de trabalho                                       1289 non-null   float64\n",
      " 21  1.f.9_Relação com outras pessoas da empresa, em momentos de integração e outros momentos fora do trabalho  1289 non-null   float64\n",
      " 22  1.i.2_regiao_onde_mora                                                                                     5075 non-null   object \n",
      " 23  1.f_aspectos_prejudicados                                                                                  1289 non-null   object \n",
      " 24  1.k.1_uf_de_origem                                                                                         953 non-null    object \n",
      " 25  1.k.2_regiao_de_origem                                                                                     953 non-null    object \n",
      " 26  1.g_vive_no_brasil                                                                                         5217 non-null   bool   \n",
      " 27  1.h_pais_onde_mora                                                                                         139 non-null    object \n",
      " 28  1.i_estado_onde_mora                                                                                       5078 non-null   object \n",
      " 29  1.j_vive_no_estado_de_formacao                                                                             5078 non-null   object \n",
      " 30  1.k_estado_de_origem                                                                                       977 non-null    object \n",
      " 31  1.l_nivel_de_ensino                                                                                        5217 non-null   object \n",
      " 32  1.m_área_de_formação                                                                                       5123 non-null   object \n",
      "dtypes: bool(1), float64(13), int64(1), object(18)\n",
      "memory usage: 1.3+ MB\n"
     ]
    }
   ],
   "source": [
    "parte1.info()\n",
    "colunas_uteis_parte1 = [\n",
    "    '1.a_idade', '1.b_genero', '1.c_cor/raca/etnia', '1.d_pcd',\n",
    "    '1.i.1_uf_onde_mora', '1.g_vive_no_brasil','1.h_pais_onde_mora',\n",
    "    '1.l_nivel_de_ensino', '1.m_área_de_formação'\n",
    "]\n",
    "colunas_uteis.append(colunas_uteis_parte1)"
   ]
  },
  {
   "cell_type": "markdown",
   "metadata": {
    "id": "OrhLf_lZTXy-"
   },
   "source": [
    "#### Parte 2"
   ]
  },
  {
   "cell_type": "code",
   "execution_count": 49,
   "metadata": {
    "colab": {
     "base_uri": "https://localhost:8080/"
    },
    "id": "cgg_DeN8M9Pu",
    "outputId": "b5d91d83-0ef2-4fed-83f2-61be3aab37c6"
   },
   "outputs": [
    {
     "name": "stdout",
     "output_type": "stream",
     "text": [
      "<class 'pandas.core.frame.DataFrame'>\n",
      "RangeIndex: 5217 entries, 0 to 5216\n",
      "Data columns (total 42 columns):\n",
      " #   Column                                                         Non-Null Count  Dtype  \n",
      "---  ------                                                         --------------  -----  \n",
      " 0   0.a_token                                                      5217 non-null   object \n",
      " 1   0.d_data/hora_envio                                            5217 non-null   object \n",
      " 2   2.a_situação_de_trabalho                                       5217 non-null   object \n",
      " 3   2.b_setor                                                      4863 non-null   object \n",
      " 4   2.c_numero_de_funcionarios                                     4863 non-null   object \n",
      " 5   2.d_atua_como_gestor                                           4863 non-null   object \n",
      " 6   2.e_cargo_como_gestor                                          1045 non-null   object \n",
      " 7   2.f_cargo_atual                                                3818 non-null   object \n",
      " 8   2.g_nivel                                                      3818 non-null   object \n",
      " 9   2.h_faixa_salarial                                             4863 non-null   object \n",
      " 10  2.i_tempo_de_experiencia_em_dados                              4863 non-null   object \n",
      " 11  2.j_tempo_de_experiencia_em_ti                                 4863 non-null   object \n",
      " 12  2.k_satisfeito_atualmente                                      4863 non-null   object \n",
      " 13  2.l.1_Remuneração/Salário                                      1527 non-null   float64\n",
      " 14  2.l.2_Benefícios                                               1527 non-null   float64\n",
      " 15  2.l.3_Propósito do trabalho e da empresa                       1527 non-null   float64\n",
      " 16  2.l.4_Flexibilidade de trabalho remoto                         1527 non-null   float64\n",
      " 17  2.l.5_Ambiente e clima de trabalho                             1527 non-null   float64\n",
      " 18  2.l.6_Oportunidade de aprendizado e trabalhar com referências  1527 non-null   float64\n",
      " 19  2.l.7_Oportunidades de crescimento                             1527 non-null   float64\n",
      " 20  2.l.8_Maturidade da empresa em termos de tecnologia e dados    1527 non-null   float64\n",
      " 21  2.l.9_Relação com os gestores e líderes                        1527 non-null   float64\n",
      " 22  2.l.10_Reputação que a empresa tem no mercado                  1527 non-null   float64\n",
      " 23  2.l.11_Gostaria de trabalhar em outra área                     1527 non-null   float64\n",
      " 24  2.l_motivo_insatisfacao                                        1527 non-null   object \n",
      " 25  2.m_participou_de_entrevistas_ultimos_6m                       4863 non-null   object \n",
      " 26  2.n_planos_de_mudar_de_emprego_6m                              4863 non-null   object \n",
      " 27  2.o_criterios_para_escolha_de_emprego                          4862 non-null   object \n",
      " 28  2.o.1_Remuneração/Salário                                      4863 non-null   float64\n",
      " 29  2.o.2_Benefícios                                               4863 non-null   float64\n",
      " 30  2.o.3_Propósito do trabalho e da empresa                       4863 non-null   float64\n",
      " 31  2.o.4_Flexibilidade de trabalho remoto                         4863 non-null   float64\n",
      " 32  2.o.5_Ambiente e clima de trabalho                             4863 non-null   float64\n",
      " 33  2.o.6_Oportunidade de aprendizado e trabalhar com referências  4863 non-null   float64\n",
      " 34  2.o.7_Plano de carreira e oportunidades de crescimento         4863 non-null   float64\n",
      " 35  2.o.8_Maturidade da empresa em termos de tecnologia e dados    4863 non-null   float64\n",
      " 36  2.o.9_Qualidade dos gestores e líderes                         4863 non-null   float64\n",
      " 37  2.o.10_Reputação que a empresa tem no mercado                  4863 non-null   float64\n",
      " 38  2.q_empresa_passou_por_layoff_em_2024                          4863 non-null   object \n",
      " 39  2.r_modelo_de_trabalho_atual                                   4863 non-null   object \n",
      " 40  2.s_modelo_de_trabalho_ideal                                   4863 non-null   object \n",
      " 41  2.t_atitude_em_caso_de_retorno_presencial                      4863 non-null   object \n",
      "dtypes: float64(21), object(21)\n",
      "memory usage: 1.7+ MB\n"
     ]
    }
   ],
   "source": [
    "parte2.info()\n",
    "colunas_uteis_parte2 = [\n",
    "    '2.a_situação_de_trabalho', '2.b_setor', '2.f_cargo_atual',\n",
    "    '2.g_nivel', '2.h_faixa_salarial', '2.i_tempo_de_experiencia_em_dados',\n",
    "    '2.r_modelo_de_trabalho_atual', '2.s_modelo_de_trabalho_ideal'\n",
    "]\n",
    "colunas_uteis.append(colunas_uteis_parte2)"
   ]
  },
  {
   "cell_type": "markdown",
   "metadata": {
    "id": "IXRzjSEbVZWI"
   },
   "source": [
    "#### Parte 3"
   ]
  },
  {
   "cell_type": "code",
   "execution_count": 50,
   "metadata": {
    "colab": {
     "base_uri": "https://localhost:8080/"
    },
    "id": "5cgAtPnqNgac",
    "outputId": "f1cfffd9-075c-4575-dd42-0409948da378"
   },
   "outputs": [
    {
     "name": "stdout",
     "output_type": "stream",
     "text": [
      "<class 'pandas.core.frame.DataFrame'>\n",
      "RangeIndex: 5217 entries, 0 to 5216\n",
      "Data columns (total 61 columns):\n",
      " #   Column                                                                              Non-Null Count  Dtype  \n",
      "---  ------                                                                              --------------  -----  \n",
      " 0   0.a_token                                                                           5217 non-null   object \n",
      " 1   0.d_data/hora_envio                                                                 5217 non-null   object \n",
      " 2   3.a_numero_de_pessoas_em_dados                                                      1045 non-null   object \n",
      " 3   3.b_cargos_no_time_de_dados_da_empresa                                              1015 non-null   object \n",
      " 4   3.b.1_Analytics Engineer                                                            1015 non-null   float64\n",
      " 5   3.b.2_Engenharia de Dados/Data Engineer                                             1015 non-null   float64\n",
      " 6   3.b.3_Analista de Dados/Data Analyst                                                1015 non-null   float64\n",
      " 7   3.b.4_Cientista de Dados/Data Scientist                                             1015 non-null   float64\n",
      " 8   3.b.5_Database Administrator/DBA                                                    1015 non-null   float64\n",
      " 9   3.b.6_Analista de Business Intelligence/BI                                          1015 non-null   float64\n",
      " 10  3.b.7_Arquiteto de Dados/Data Architect                                             1015 non-null   float64\n",
      " 11  3.b.8_Data Product Manager/DPM                                                      1015 non-null   float64\n",
      " 12  3.b.9_Business Analyst                                                              1015 non-null   float64\n",
      " 13  3.b.10_ML Engineer/AI Engineer                                                      1015 non-null   float64\n",
      " 14  3.c_responsabilidades_como_gestor                                                   1045 non-null   object \n",
      " 15  3.c.1_Pensar na visão de longo prazo de dados                                       1045 non-null   float64\n",
      " 16  3.c.2_Organização de treinamentos e iniciativas                                     1045 non-null   float64\n",
      " 17  3.c.3_Atração, seleção e contratação                                                1045 non-null   float64\n",
      " 18  3.c.4_Decisão sobre contratação de ferramentas                                      1045 non-null   float64\n",
      " 19  3.c.5_gestor da equipe de engenharia de dados                                       1045 non-null   float64\n",
      " 20  3.c.6_gestor da equipe de estudos, relatórios                                       1045 non-null   float64\n",
      " 21  3.c.7_gestor da equipe de Inteligência Artificial e Machine Learning                1045 non-null   float64\n",
      " 22  3.c.8_Apesar de ser gestor ainda atuo na parte técnica                              1045 non-null   float64\n",
      " 23  3.c.9_Gestão de projetos de dados                                                   1045 non-null   float64\n",
      " 24  3.c.10_Gestão de produtos de dados                                                  1045 non-null   float64\n",
      " 25  3.c.11_Gestão de pessoas                                                            1045 non-null   float64\n",
      " 26  3.d_desafios_como_gestor                                                            1045 non-null   object \n",
      " 27  3.d.1_Contratar talentos                                                            1045 non-null   float64\n",
      " 28  3.d.2_Reter talentos                                                                1045 non-null   float64\n",
      " 29  3.d.3_Convencer a empresa a aumentar investimentos                                  1045 non-null   float64\n",
      " 30  3.d.4_Gestão de equipes no ambiente remoto                                          1045 non-null   float64\n",
      " 31  3.d.5_Gestão de projetos envolvendo áreas multidisciplinares                        1045 non-null   float64\n",
      " 32  3.d.6_Organizar as informações com qualidade e confiabilidade                       1045 non-null   float64\n",
      " 33  3.d.7_Processar e armazenar um alto volume de dados                                 1045 non-null   float64\n",
      " 34  3.d.8_Gerar valor para as áreas de negócios                                         1045 non-null   float64\n",
      " 35  3.d.9_Desenvolver e manter modelos Machine Learning em produção                     1045 non-null   float64\n",
      " 36  3.d.10_Gerenciar a expectativa das áreas                                            1045 non-null   float64\n",
      " 37  3.d.11_Garantir a manutenção dos projetos e modelos em produção                     1045 non-null   float64\n",
      " 38  3.d.12_Conseguir levar inovação para a empresa                                      1045 non-null   float64\n",
      " 39  3.d.13_Garantir (ROI) em projetos de dados                                          1045 non-null   float64\n",
      " 40  3.d.14_Dividir o tempo entre entregas técnicas e gestão                             1045 non-null   float64\n",
      " 41  3.e_ai_generativa_e_llm_é_uma_prioridade?                                           1045 non-null   object \n",
      " 42  3.f_tipo_de_uso_de_ai_generativa_e_llm_na_empresa                                   1000 non-null   object \n",
      " 43  3.f.1 Colaboradores usando AI generativa de forma independente e descentralizada    1000 non-null   float64\n",
      " 44  3.f.2 Direcionamento centralizado do uso de AI generativa                           1000 non-null   float64\n",
      " 45  3.f.3 Desenvolvedores utilizando Copilots                                           1000 non-null   float64\n",
      " 46  3.f.4 AI Generativa e LLMs para melhorar produtos externos para os clientes finais  1000 non-null   float64\n",
      " 47  3.f.5 AI Generativa e LLMs para melhorar produtos internos para os colaboradores    1000 non-null   float64\n",
      " 48  3.f.6 IA Generativa e LLMs como principal frente do negócio                         1000 non-null   float64\n",
      " 49  3.f.7 IA Generativa e LLMs não é prioridade                                         1000 non-null   float64\n",
      " 50  3.f.8 Não sei opinar sobre o uso de IA Generativa e LLMs na empresa                 1000 non-null   float64\n",
      " 51  3.g_motivos_para_não_usar_ai_generativa_e_llm                                       974 non-null    object \n",
      " 52  3.g.1 Falta de compreensão dos casos de uso                                         974 non-null    float64\n",
      " 53  3.g.2 Falta de confiabilidade das saídas (alucinação dos modelos)                   974 non-null    float64\n",
      " 54  3.g.3 Incerteza em relação a regulamentação                                         974 non-null    float64\n",
      " 55  3.g.4 Preocupações com segurança e privacidade de dados                             974 non-null    float64\n",
      " 56  3.g.5 Retorno sobre investimento (ROI) não comprovado de IA Generativa              974 non-null    float64\n",
      " 57  3.g.6 Dados da empresa não estão prontos para uso de IA Generativa                  974 non-null    float64\n",
      " 58  3.g.7 Falta de expertise ou falta de recursos                                       974 non-null    float64\n",
      " 59  3.g.8 Alta direção da empresa não vê valor ou não vê como prioridade                974 non-null    float64\n",
      " 60  3.g.9 Preocupações com propriedade intelectual                                      974 non-null    float64\n",
      "dtypes: float64(52), object(9)\n",
      "memory usage: 2.4+ MB\n"
     ]
    }
   ],
   "source": [
    "parte3.info()"
   ]
  },
  {
   "cell_type": "markdown",
   "metadata": {
    "id": "zt8SKobQVyzv"
   },
   "source": [
    "#### Parte 4"
   ]
  },
  {
   "cell_type": "code",
   "execution_count": 51,
   "metadata": {
    "colab": {
     "base_uri": "https://localhost:8080/"
    },
    "id": "afq90PfQNrKl",
    "outputId": "601c6082-3de0-47f8-cf09-fc5ba190dda3"
   },
   "outputs": [
    {
     "name": "stdout",
     "output_type": "stream",
     "text": [
      "<class 'pandas.core.frame.DataFrame'>\n",
      "RangeIndex: 5217 entries, 0 to 5216\n",
      "Data columns (total 118 columns):\n",
      " #    Column                                                                                       Dtype  \n",
      "---   ------                                                                                       -----  \n",
      " 0    0.a_token                                                                                    object \n",
      " 1    0.d_data/hora_envio                                                                          object \n",
      " 2    4.a_funcao_de_atuacao                                                                        object \n",
      " 3    4.a.1_atuacao_em_dados                                                                       object \n",
      " 4    4.b_fontes_de_dados_(dia_a_dia)                                                              object \n",
      " 5    4.b.1_Dados relacionais (estruturados em bancos SQL)                                         float64\n",
      " 6    4.b.2_Dados armazenados em bancos NoSQL                                                      float64\n",
      " 7    4.b.3_Imagens                                                                                float64\n",
      " 8    4.b.4_Textos/Documentos                                                                      float64\n",
      " 9    4.b.5_Vídeos                                                                                 float64\n",
      " 10   4.b.6_Áudios                                                                                 float64\n",
      " 11   4.b.7_Planilhas                                                                              float64\n",
      " 12   4.b.8_Dados georeferenciados                                                                 float64\n",
      " 13   4.c_fonte_de_dado_mais_usada                                                                 object \n",
      " 14   4.c.1_Dados relacionais (estruturados em bancos SQL)                                         float64\n",
      " 15   4.c.2_Dados armazenados em bancos NoSQL                                                      float64\n",
      " 16   4.c.3_Imagens                                                                                float64\n",
      " 17   4.c.4_Textos/Documentos                                                                      float64\n",
      " 18   4.c.5_Vídeos                                                                                 float64\n",
      " 19   4.c.6_Áudios                                                                                 float64\n",
      " 20   4.c.7_Planilhas                                                                              float64\n",
      " 21   4.c.8_Dados georeferenciados                                                                 float64\n",
      " 22   4.d_linguagem_de_programacao_(dia_a_dia)                                                     object \n",
      " 23   4.d.1_SQL                                                                                    float64\n",
      " 24   4.d.2_R                                                                                      float64\n",
      " 25   4.d.3_Python                                                                                 float64\n",
      " 26   4.d.4_C/C++/C#                                                                               float64\n",
      " 27   4.d.5_.NET                                                                                   float64\n",
      " 28   4.d.6_Java                                                                                   float64\n",
      " 29   4.d.7_Julia                                                                                  float64\n",
      " 30   4.d.8_SAS/Stata                                                                              float64\n",
      " 31   4.d.9_Visual Basic/VBA                                                                       float64\n",
      " 32   4.d.10_Scala                                                                                 float64\n",
      " 33   4.d.11_Matlab                                                                                float64\n",
      " 34   4.d.12_Rust                                                                                  float64\n",
      " 35   4.d.13_PHP                                                                                   float64\n",
      " 36   4.d.14_JavaScript                                                                            float64\n",
      " 37   4.d.15_Não utilizo nenhuma das linguagens listadas                                           float64\n",
      " 38   4.e_linguagem_mais_usada                                                                     object \n",
      " 39   4.f_linguagem_preferida                                                                      object \n",
      " 40   4.g_banco_de_dados_(dia_a_dia)                                                               object \n",
      " 41   4.g.1_MySQL                                                                                  float64\n",
      " 42   4.g.2_Oracle                                                                                 float64\n",
      " 43   4.g.3_SQL SERVER                                                                             float64\n",
      " 44   4.g.4_Amazon Aurora ou RDS                                                                   float64\n",
      " 45   4.g.5_DynamoDB                                                                               float64\n",
      " 46   4.g.6_CoachDB                                                                                float64\n",
      " 47   4.g.7_Cassandra                                                                              float64\n",
      " 48   4.g.8_MongoDB                                                                                float64\n",
      " 49   4.g.9_MariaDB                                                                                float64\n",
      " 50   4.g.10_Datomic                                                                               float64\n",
      " 51   4.g.11_S3                                                                                    float64\n",
      " 52   4.g.12_PostgreSQL                                                                            float64\n",
      " 53   4.g.13_ElasticSearch                                                                         float64\n",
      " 54   4.g.14_DB2                                                                                   float64\n",
      " 55   4.g.15_Microsoft Access                                                                      float64\n",
      " 56   4.g.16_SQLite                                                                                float64\n",
      " 57   4.g.17_Sybase                                                                                float64\n",
      " 58   4.g.18_Firebase                                                                              float64\n",
      " 59   4.g.19_Vertica                                                                               float64\n",
      " 60   4.g.20_Redis                                                                                 float64\n",
      " 61   4.g.21_Neo4J                                                                                 float64\n",
      " 62   4.g.22_Google BigQuery                                                                       float64\n",
      " 63   4.g.23_Google Firestore                                                                      float64\n",
      " 64   4.g.24_Amazon Redshift                                                                       float64\n",
      " 65   4.g.25_Amazon Athena                                                                         float64\n",
      " 66   4.g.26_Snowflake                                                                             float64\n",
      " 67   4.g.27_Databricks                                                                            float64\n",
      " 68   4.g.28_HBase                                                                                 float64\n",
      " 69   4.g.29_Presto                                                                                float64\n",
      " 70   4.g.30_Splunk                                                                                float64\n",
      " 71   4.g.31_SAP HANA                                                                              float64\n",
      " 72   4.g.32_Hive                                                                                  float64\n",
      " 73   4.g.33_Firebird                                                                              float64\n",
      " 74   4.h_cloud_(dia_a_dia)                                                                        object \n",
      " 75   4.h.1_Amazon Web Services (AWS)                                                              float64\n",
      " 76   4.h.2_Google Cloud (GCP)                                                                     float64\n",
      " 77   4.h.3_Azure (Microsoft)                                                                      float64\n",
      " 78   4.h.4_Oracle Cloud                                                                           float64\n",
      " 79   4.h.5_IBM                                                                                    float64\n",
      " 80   4.h.6_Servidores On Premise/Não utilizamos Cloud                                             float64\n",
      " 81   4.h.7_Cloud Própria                                                                          float64\n",
      " 82   4.i_cloud_preferida                                                                          object \n",
      " 83   4.j_ferramenta_de_bi_(dia_a_dia)                                                             object \n",
      " 84   4.j.1_Microsoft PowerBI                                                                      float64\n",
      " 85   4.j.2_Qlik View/Qlik Sense                                                                   float64\n",
      " 86   4.j.3_Tableau                                                                                float64\n",
      " 87   4.j.4_Metabase                                                                               float64\n",
      " 88   4.j.5_Superset                                                                               float64\n",
      " 89   4.j.6_Redash                                                                                 float64\n",
      " 90   4.j.7_Looker                                                                                 float64\n",
      " 91   4.j.8_Looker Studio(Google Data Studio)                                                      float64\n",
      " 92   4.j.9_Amazon Quicksight                                                                      float64\n",
      " 93   4.j.10_Alteryx                                                                               float64\n",
      " 94   4.j.11_SAP Business Objects/SAP Analytics                                                    float64\n",
      " 95   4.j.12_Oracle Business Intelligence                                                          float64\n",
      " 96   4.j.13_Salesforce/Einstein Analytics                                                         float64\n",
      " 97   4.j.14_SAS Visual Analytics                                                                  float64\n",
      " 98   4.j.15_Grafana                                                                               float64\n",
      " 99   4.j.16_Pentaho                                                                               float64\n",
      " 100  4.j.17_Fazemos todas as análises utilizando apenas Excel ou planilhas do google              float64\n",
      " 101  4.j.18_Não utilizo nenhuma ferramenta de BI no trabalho                                      float64\n",
      " 102  4.k_ferramenta_de_bi_preferida                                                               object \n",
      " 103  4.l_tipo_de_uso_de_ai_generativa_e_llm_na_empresa                                            object \n",
      " 104  4.l.1 Colaboradores usando AI generativa de forma independente e descentralizada             float64\n",
      " 105  4.l.2 Direcionamento centralizado do uso de AI generativa                                    float64\n",
      " 106  4.l.3 Desenvolvedores utilizando Copilots                                                    float64\n",
      " 107  4.l.4 AI Generativa e LLMs para melhorar produtos externos para os clientes finais           float64\n",
      " 108  4.l.5 AI Generativa e LLMs para melhorar produtos internos para os colaboradores             float64\n",
      " 109  4.l.6 IA Generativa e LLMs como principal frente do negócio                                  float64\n",
      " 110  4.l.7 IA Generativa e LLMs não é prioridade                                                  float64\n",
      " 111  4.l.8 Não sei opinar sobre o uso de IA Generativa e LLMs na empresa                          float64\n",
      " 112  4.m_usa_chatgpt_ou_copilot_no_trabalho?                                                      object \n",
      " 113  4.m.1 Não uso soluções de AI Generativa com foco em produtividade                            float64\n",
      " 114  4.m.2 Uso soluções gratuitas de AI Generativa com foco em produtividade                      float64\n",
      " 115  4.m.3 Uso e pago pelas soluções de AI Generativa com foco em produtividade                   float64\n",
      " 116  4.m.4 A empresa que trabalho paga pelas soluções de AI Generativa com foco em produtividade  float64\n",
      " 117  4.m.5 Uso soluções do tipo Copilot                                                           float64\n",
      "dtypes: float64(102), object(16)\n",
      "memory usage: 4.7+ MB\n"
     ]
    }
   ],
   "source": [
    "parte4.info(verbose=bool)"
   ]
  },
  {
   "cell_type": "markdown",
   "metadata": {
    "id": "NdElQCtBV_JI"
   },
   "source": [
    "#### Parte 5"
   ]
  },
  {
   "cell_type": "code",
   "execution_count": 52,
   "metadata": {
    "colab": {
     "base_uri": "https://localhost:8080/"
    },
    "id": "JCF5ghMNV-w_",
    "outputId": "2176b4e2-1605-44b2-80c0-7324b89102db"
   },
   "outputs": [
    {
     "name": "stdout",
     "output_type": "stream",
     "text": [
      "<class 'pandas.core.frame.DataFrame'>\n",
      "RangeIndex: 5217 entries, 0 to 5216\n",
      "Data columns (total 6 columns):\n",
      " #   Column                                  Non-Null Count  Dtype \n",
      "---  ------                                  --------------  ----- \n",
      " 0   0.a_token                               5217 non-null   object\n",
      " 1   0.d_data/hora_envio                     5217 non-null   object\n",
      " 2   5.a_objetivo_na_area_de_dados           541 non-null    object\n",
      " 3   5.b_oportunidade_buscada                286 non-null    object\n",
      " 4   5.c_tempo_em_busca_de_oportunidade      290 non-null    object\n",
      " 5   5.d_experiencia_em_processos_seletivos  289 non-null    object\n",
      "dtypes: object(6)\n",
      "memory usage: 244.7+ KB\n"
     ]
    }
   ],
   "source": [
    "parte5.info()"
   ]
  },
  {
   "cell_type": "markdown",
   "metadata": {
    "id": "yEomoNnpWEKf"
   },
   "source": [
    "#### Parte 6"
   ]
  },
  {
   "cell_type": "code",
   "execution_count": 53,
   "metadata": {
    "colab": {
     "base_uri": "https://localhost:8080/"
    },
    "id": "kkyKbmK_WFmv",
    "outputId": "e1ce5ac4-84ff-49b7-875f-2eabd8bb1707"
   },
   "outputs": [
    {
     "name": "stdout",
     "output_type": "stream",
     "text": [
      "<class 'pandas.core.frame.DataFrame'>\n",
      "RangeIndex: 5217 entries, 0 to 5216\n",
      "Data columns (total 49 columns):\n",
      " #   Column                                                                                                                                   Non-Null Count  Dtype  \n",
      "---  ------                                                                                                                                   --------------  -----  \n",
      " 0   0.a_token                                                                                                                                5217 non-null   object \n",
      " 1   0.d_data/hora_envio                                                                                                                      5217 non-null   object \n",
      " 2   6.a_rotina_como_de                                                                                                                       929 non-null    object \n",
      " 3   6.a.1_Desenvolvo pipelines de dados utilizando linguagens de programação como Python, Scala, Java etc.                                   929 non-null    float64\n",
      " 4   6.a.2_Realizo construções de ETL's em ferramentas como Pentaho, Talend, Dataflow etc.                                                    929 non-null    float64\n",
      " 5   6.a.3_Crio consultas através da linguagem SQL para exportar informações e compartilhar com as áreas de negócio.                          929 non-null    float64\n",
      " 6   6.a.4_Atuo na integração de diferentes fontes de dados através de plataformas proprietárias como Stitch Data, Fivetran etc.              929 non-null    float64\n",
      " 7   6.a.5_Modelo soluções de arquitetura de dados, criando componentes de ingestão de dados, transformação e recuperação da informação.      929 non-null    float64\n",
      " 8   6.a.6_Desenvolvo/cuido da manutenção de repositórios de dados baseados em streaming de eventos como Data Lakes e Data Lakehouses.        929 non-null    float64\n",
      " 9   6.a.7_Atuo na modelagem dos dados, com o objetivo de criar conjuntos de dados como Data Warehouses, Data Marts, Datasets etc.            929 non-null    float64\n",
      " 10  6.a.8_Cuido da qualidade dos dados, metadados e dicionário de dados.                                                                     929 non-null    float64\n",
      " 11  6.a.9_Nenhuma das opções listadas refletem meu dia a dia.                                                                                929 non-null    float64\n",
      " 12  6.b_ferramentas_etl_de                                                                                                                   929 non-null    object \n",
      " 13  6.b.1_Scripts Python                                                                                                                     929 non-null    float64\n",
      " 14  6.b.2_SQL & Stored Procedures                                                                                                            929 non-null    float64\n",
      " 15  6.b.3_Apache Airflow                                                                                                                     929 non-null    float64\n",
      " 16  6.b.4_Apache NiFi                                                                                                                        929 non-null    float64\n",
      " 17  6.b.5_Luigi                                                                                                                              929 non-null    float64\n",
      " 18  6.b.6_AWS Glue                                                                                                                           929 non-null    float64\n",
      " 19  6.b.7_Talend                                                                                                                             929 non-null    float64\n",
      " 20  6.b.8_Pentaho                                                                                                                            929 non-null    float64\n",
      " 21  6.b.9_Alteryx                                                                                                                            929 non-null    float64\n",
      " 22  6.b.10_Stitch                                                                                                                            929 non-null    float64\n",
      " 23  6.b.11_Fivetran                                                                                                                          929 non-null    float64\n",
      " 24  6.b.12_Google Dataflow                                                                                                                   929 non-null    float64\n",
      " 25  6.b.13_Oracle Data Integrator                                                                                                            929 non-null    float64\n",
      " 26  6.b.14_IBM DataStage                                                                                                                     929 non-null    float64\n",
      " 27  6.b.15_SAP BW ETL                                                                                                                        929 non-null    float64\n",
      " 28  6.b.16_SQL Server Integration Services (SSIS)                                                                                            929 non-null    float64\n",
      " 29  6.b.17_SAS Data Integration                                                                                                              929 non-null    float64\n",
      " 30  6.b.18_Qlik Sense                                                                                                                        929 non-null    float64\n",
      " 31  6.b.19_Knime                                                                                                                             929 non-null    float64\n",
      " 32  6.b.20_Databricks                                                                                                                        929 non-null    float64\n",
      " 33  6.b.21_Não utilizo ferramentas de ETL                                                                                                    929 non-null    float64\n",
      " 34  6.c_possui_data_lake                                                                                                                     923 non-null    object \n",
      " 35  6.d_tecnologia_data_lake                                                                                                                 735 non-null    object \n",
      " 36  6.e_possui_data_warehouse                                                                                                                917 non-null    object \n",
      " 37  6.f_tecnologia_data_warehouse                                                                                                            726 non-null    object \n",
      " 38  6.g_ferramentas_de_qualidade_de_dados_(dia_a_dia)                                                                                        560 non-null    object \n",
      " 39  6.h_maior_tempo_gasto_como_de                                                                                                            929 non-null    object \n",
      " 40  6.h.1_Desenvolvendo pipelines de dados utilizando linguagens de programação como Python, Scala, Java etc.                                929 non-null    float64\n",
      " 41  6.h.2_Realizando construções de ETL\\s em ferramentas como Pentaho, Talend, Dataflow etc.                                                 929 non-null    float64\n",
      " 42  6.h.3_Criando consultas através da linguagem SQL para exportar informações e compartilhar com as áreas de negócio.                       929 non-null    float64\n",
      " 43  6.h.4_Atuando na integração de diferentes fontes de dados através de plataformas proprietárias como Stitch Data, Fivetran etc.           929 non-null    float64\n",
      " 44  6.h.5_Modelando soluções de arquitetura de dados, criando componentes de ingestão de dados, transformação e recuperação da informação.   929 non-null    float64\n",
      " 45  6.h.6_Desenvolvendo/cuidando da manutenção de repositórios de dados baseados em streaming de eventos como Data Lakes e Data Lakehouses.  929 non-null    float64\n",
      " 46  6.h.7_Atuando na modelagem dos dados, com o objetivo de criar conjuntos de dados como Data Warehouses, Data Marts, Datasets etc.         929 non-null    float64\n",
      " 47  6.h.8_Cuidando da qualidade dos dados, metadados e dicionário de dados.                                                                  929 non-null    float64\n",
      " 48  6.h.9_Nenhuma das opções listadas refletem meu dia a dia.                                                                                929 non-null    float64\n",
      "dtypes: float64(39), object(10)\n",
      "memory usage: 2.0+ MB\n"
     ]
    }
   ],
   "source": [
    "parte6.info()"
   ]
  },
  {
   "cell_type": "markdown",
   "metadata": {
    "id": "oqCHMS56WKF5"
   },
   "source": [
    "#### Parte 7"
   ]
  },
  {
   "cell_type": "code",
   "execution_count": 54,
   "metadata": {
    "colab": {
     "base_uri": "https://localhost:8080/"
    },
    "id": "TR_rubq_Wwlg",
    "outputId": "c78acd13-db1a-42e5-e940-41a36b426445"
   },
   "outputs": [
    {
     "name": "stdout",
     "output_type": "stream",
     "text": [
      "<class 'pandas.core.frame.DataFrame'>\n",
      "RangeIndex: 5217 entries, 0 to 5216\n",
      "Data columns (total 53 columns):\n",
      " #   Column                                                                                                                            Non-Null Count  Dtype  \n",
      "---  ------                                                                                                                            --------------  -----  \n",
      " 0   0.a_token                                                                                                                         5217 non-null   object \n",
      " 1   0.d_data/hora_envio                                                                                                               5217 non-null   object \n",
      " 2   7.a_rotina_como_da                                                                                                                1669 non-null   object \n",
      " 3   7.a.1_Processo e analiso dados utilizando linguagens de programação como Python, R etc.                                           1669 non-null   float64\n",
      " 4   7.a.2_Realizo construções de dashboards em ferramentas de BI como PowerBI, Tableau, Looker, Qlik etc.                             1669 non-null   float64\n",
      " 5   7.a.3_Crio consultas através da linguagem SQL para exportar informações e compartilhar com as áreas de negócio.                   1669 non-null   float64\n",
      " 6   7.a.4_Utilizo API\\s para extrair dados e complementar minhas análises.                                                            1669 non-null   float64\n",
      " 7   7.a.5_Realizo experimentos e estudos utilizando metodologias estatísticas como teste de hipótese, modelos de regressão etc.       1669 non-null   float64\n",
      " 8   7.a.6_Desenvolvo/cuido da manutenção de ETL\\s utilizando tecnologias como Talend, Pentaho, Airflow, Dataflow etc.                 1669 non-null   float64\n",
      " 9   7.a.7_Atuo na modelagem dos dados, com o objetivo de criar conjuntos de dados como Data Warehouses, Data Marts etc.               1669 non-null   float64\n",
      " 10  7.a.8_Desenvolvo/cuido da manutenção de planilhas para atender as áreas de negócio.                                               1669 non-null   float64\n",
      " 11  7.a.9_Utilizo ferramentas avançadas de estatística como SAS, SPSS, Stata etc, para realizar análises de dados.                    1669 non-null   float64\n",
      " 12  7.a.10_Nenhuma das opções listadas refletem meu dia a dia.                                                                        1669 non-null   float64\n",
      " 13  7.b_ferramentas_etl_da                                                                                                            1669 non-null   object \n",
      " 14  7.b.1_Scripts Python                                                                                                              1669 non-null   float64\n",
      " 15  7.b.2_SQL & Stored Procedures                                                                                                     1669 non-null   float64\n",
      " 16  7.b.3_Apache Airflow                                                                                                              1669 non-null   float64\n",
      " 17  7.b.4_Apache NiFi                                                                                                                 1669 non-null   float64\n",
      " 18  7.b.5_Luigi                                                                                                                       1669 non-null   float64\n",
      " 19  7.b.6_AWS Glue                                                                                                                    1669 non-null   float64\n",
      " 20  7.b.7_Talend                                                                                                                      1669 non-null   float64\n",
      " 21  7.b.8_Pentaho                                                                                                                     1669 non-null   float64\n",
      " 22  7.b.9_Alteryx                                                                                                                     1669 non-null   float64\n",
      " 23  7.b.10_Stitch                                                                                                                     1669 non-null   float64\n",
      " 24  7.b.11_Fivetran                                                                                                                   1669 non-null   float64\n",
      " 25  7.b.12_Google Dataflow                                                                                                            1669 non-null   float64\n",
      " 26  7.b.13_Oracle Data Integrator                                                                                                     1669 non-null   float64\n",
      " 27  7.b.14_IBM DataStage                                                                                                              1669 non-null   float64\n",
      " 28  7.b.15_SAP BW ETL                                                                                                                 1669 non-null   float64\n",
      " 29  7.b.16_SQL Server Integration Services (SSIS)                                                                                     1669 non-null   float64\n",
      " 30  7.b.17_SAS Data Integration                                                                                                       1669 non-null   float64\n",
      " 31  7.b.18_Qlik Sense                                                                                                                 1669 non-null   float64\n",
      " 32  7.b.19_Knime                                                                                                                      1669 non-null   float64\n",
      " 33  7.b.20_Databricks                                                                                                                 1669 non-null   float64\n",
      " 34  7.b.21_Não utilizo ferramentas de ETL                                                                                             1669 non-null   float64\n",
      " 35  7.c_ferramentas_autonomia_area_de_negocios                                                                                        1669 non-null   object \n",
      " 36  7.c.1_Ferramentas de AutoML como H2O.ai, Data Robot, BigML etc.                                                                   1669 non-null   float64\n",
      " 37  7.c.2_\"Point and Click\" Analytics como Alteryx, Knime, Rapidminer etc.                                                            1669 non-null   float64\n",
      " 38  7.c.3_Product metricts & Insights como Mixpanel, Amplitude, Adobe Analytics.                                                      1669 non-null   float64\n",
      " 39  7.c.4_Ferramentas de análise dentro de ferramentas de CRM como Salesforce Einstein Anaytics ou Zendesk dashboards.                1669 non-null   float64\n",
      " 40  7.c.5_Minha empresa não utiliza essas ferramentas.                                                                                1669 non-null   float64\n",
      " 41  7.c.6_Não sei informar.                                                                                                           1669 non-null   float64\n",
      " 42  7.d_maior_tempo_gasto_como_da                                                                                                     1669 non-null   object \n",
      " 43  7.d.1_Processando e analisando dados utilizando linguagens de programação como Python, R etc.                                     1669 non-null   float64\n",
      " 44  7.d.2_Realizando construções de dashboards em ferramentas de BI como PowerBI, Tableau, Looker, Qlik etc.                          1669 non-null   float64\n",
      " 45  7.d.3_Criando consultas através da linguagem SQL para exportar informações e compartilhar com as áreas de negócio.                1669 non-null   float64\n",
      " 46  7.d.4_Utilizando API's para extrair dados e complementar minhas análises.                                                         1669 non-null   float64\n",
      " 47  7.d.5_Realizando experimentos e estudos utilizando metodologias estatísticas como teste de hipótese, modelos de regressão etc.    1669 non-null   float64\n",
      " 48  7.d.6_Desenvolvendo/cuidando da manutenção de ETL's utilizando tecnologias como Talend, Pentaho, Airflow, Dataflow etc.           1669 non-null   float64\n",
      " 49  7.d.7_Atuando na modelagem dos dados, com o objetivo de criar conjuntos de dados como Data Warehouses, Data Marts, Datasets etc.  1669 non-null   float64\n",
      " 50  7.d.8_Desenvolvendo/cuidando da manutenção de planilhas para atender as áreas de negócio.                                         1669 non-null   float64\n",
      " 51  7.d.9_Utilizando ferramentas avançadas de estatística como SAS, SPSS, Stata etc, para realizar análises de dados.                 1669 non-null   float64\n",
      " 52  7.d.10_Nenhuma das opções listadas refletem meu dia a dia.                                                                        1669 non-null   float64\n",
      "dtypes: float64(47), object(6)\n",
      "memory usage: 2.1+ MB\n"
     ]
    }
   ],
   "source": [
    "parte7.info()"
   ]
  },
  {
   "cell_type": "markdown",
   "metadata": {
    "id": "82ji-Pc7VYCY"
   },
   "source": []
  },
  {
   "cell_type": "markdown",
   "metadata": {
    "id": "HZPHdzEiW1hG"
   },
   "source": [
    "#### Parte 8"
   ]
  },
  {
   "cell_type": "code",
   "execution_count": 55,
   "metadata": {
    "colab": {
     "base_uri": "https://localhost:8080/"
    },
    "id": "u9y7JeHzW38L",
    "outputId": "8e717b40-fa5b-401a-c8ed-61bde444a440"
   },
   "outputs": [
    {
     "name": "stdout",
     "output_type": "stream",
     "text": [
      "<class 'pandas.core.frame.DataFrame'>\n",
      "RangeIndex: 5217 entries, 0 to 5216\n",
      "Data columns (total 55 columns):\n",
      " #   Column                                                                                                                                                                                               Non-Null Count  Dtype  \n",
      "---  ------                                                                                                                                                                                               --------------  -----  \n",
      " 0   0.a_token                                                                                                                                                                                            5217 non-null   object \n",
      " 1   0.d_data/hora_envio                                                                                                                                                                                  5217 non-null   object \n",
      " 2   8.a_rotina_como_ds                                                                                                                                                                                   773 non-null    object \n",
      " 3   8.a.1_Estudos Ad-hoc com o objetivo de confirmar hipóteses, realizar modelos preditivos, forecasts, análise de cluster para resolver problemas pontuais e responder perguntas das áreas de negócio.  773 non-null    float64\n",
      " 4   8.a.2_Sou responsável pela coleta e limpeza dos dados que uso para análise e modelagem.                                                                                                              773 non-null    float64\n",
      " 5   8.a.3_Sou responsável por entrar em contato com os times de negócio para definição do problema, identificar a solução e apresentação de resultados.                                                  773 non-null    float64\n",
      " 6   8.a.4_Desenvolvo modelos de Machine Learning com o objetivo de colocar em produção em sistemas (produtos de dados).                                                                                  773 non-null    float64\n",
      " 7   8.a.5_Sou responsável por colocar modelos em produção, criar os pipelines de dados, APIs de consumo e monitoramento.                                                                                 773 non-null    float64\n",
      " 8   8.a.6_Cuido da manutenção de modelos de Machine Learning já em produção, atuando no monitoramento, ajustes e refatoração quando necessário.                                                          773 non-null    float64\n",
      " 9   8.a.7_Realizo construções de dashboards em ferramentas de BI como PowerBI, Tableau, Looker, Qlik, etc                                                                                                773 non-null    float64\n",
      " 10  8.a.8_Utilizo ferramentas avançadas de estatística como SAS, SPSS, Stata etc, para realizar análises.                                                                                                773 non-null    float64\n",
      " 11  8.a.9_Crio e dou manutenção em ETLs, DAGs e automações de pipelines de dados.                                                                                                                        773 non-null    float64\n",
      " 12  8.a.10_Crio e gerencio soluções de Feature Store e cultura de MLOps.                                                                                                                                 773 non-null    float64\n",
      " 13  8.a.11_Sou responsável por criar e manter a infra que meus modelos e soluções rodam (clusters, servidores, API, containers, etc.)                                                                    773 non-null    float64\n",
      " 14  8.a.12_Treino e aplico LLM's para solucionar problemas de negócio.                                                                                                                                   773 non-null    float64\n",
      " 15  8.b_tecnicas_e_metodos_ds                                                                                                                                                                            773 non-null    object \n",
      " 16  8.b.1_Utilizo modelos de regressão (linear, logística, GLM).                                                                                                                                         773 non-null    float64\n",
      " 17  8.b.2_Utilizo redes neurais ou modelos baseados em árvore para criar modelos de classificação.                                                                                                       773 non-null    float64\n",
      " 18  8.b.3_Desenvolvo sistemas de recomendação (RecSys).                                                                                                                                                  773 non-null    float64\n",
      " 19  8.b.4_Utilizo métodos estatísticos Bayesianos para analisar dados.                                                                                                                                   773 non-null    float64\n",
      " 20  8.b.5_Utilizo técnicas de NLP (Natural Language Processing) para análisar dados não-estruturados.                                                                                                    773 non-null    float64\n",
      " 21  8.b.6_Utilizo métodos estatísticos clássicos (Testes de hipótese, análise multivariada, sobrevivência, dados longitudinais, inferência estatistica) para analisar dados.                             773 non-null    float64\n",
      " 22  8.b.7_Utilizo cadeias de Markov ou HMM\\s para realizar análises de dados.                                                                                                                            773 non-null    float64\n",
      " 23  8.b.8_Desenvolvo técnicas de Clusterização (K-means, Spectral, DBScan etc).                                                                                                                          773 non-null    float64\n",
      " 24  8.b.9_Realizo previsões através de modelos de Séries Temporais (Time Series).                                                                                                                        773 non-null    float64\n",
      " 25  8.b.10_Utilizo modelos de Reinforcement Learning (aprendizado por reforço).                                                                                                                          773 non-null    float64\n",
      " 26  8.b.11_Utilizo modelos de Machine Learning para detecção de fraude.                                                                                                                                  773 non-null    float64\n",
      " 27  8.b.12_Utilizo métodos de Visão Computacional.                                                                                                                                                       773 non-null    float64\n",
      " 28  8.b.13_Utilizo modelos de Detecção de Churn.                                                                                                                                                         773 non-null    float64\n",
      " 29  8.b.14_Utilizo LLM's para solucionar problemas de negócio.                                                                                                                                           773 non-null    float64\n",
      " 30  8.c_tecnologias_ds                                                                                                                                                                                   773 non-null    object \n",
      " 31  8.c.1_Ferramentas de BI (PowerBI, Looker, Tableau, Qlik etc).                                                                                                                                        773 non-null    float64\n",
      " 32  8.c.2_Planilhas (Excel, Google Sheets etc).                                                                                                                                                          773 non-null    float64\n",
      " 33  8.c.3_Ambientes de desenvolvimento local (R-studio, JupyterLab, Anaconda).                                                                                                                           773 non-null    float64\n",
      " 34  8.c.4_Ambientes de desenvolvimento na nuvem (Google Colab, AWS Sagemaker, Kaggle Notebooks etc).                                                                                                     773 non-null    float64\n",
      " 35  8.c.5_Ferramentas de AutoML (Datarobot, H2O, Auto-Keras etc).                                                                                                                                        773 non-null    float64\n",
      " 36  8.c.6_Ferramentas de ETL (Apache Airflow, NiFi, Stitch, Fivetran, Pentaho etc).                                                                                                                      773 non-null    float64\n",
      " 37  8.c.7_Plataformas de Machine Learning (TensorFlow, Azure Machine Learning, Kubeflow etc).                                                                                                            773 non-null    float64\n",
      " 38  8.c.8_Feature Store (Feast, Hopsworks, AWS Feature Store, Databricks Feature Store etc).                                                                                                             773 non-null    float64\n",
      " 39  8.c.9_Sistemas de controle de versão (Github, DVC, Neptune, Gitlab etc).                                                                                                                             773 non-null    float64\n",
      " 40  8.c.10_Plataformas de Data Apps (Streamlit, Shiny, Plotly Dash etc).                                                                                                                                 773 non-null    float64\n",
      " 41  8.c.11_Ferramentas de estatística avançada como SPSS, SAS, etc.                                                                                                                                      773 non-null    float64\n",
      " 42  8.d_maior_tempo_gasto_como_ds                                                                                                                                                                        773 non-null    object \n",
      " 43  8.d.1_Estudos Ad-hoc com o objetivo de confirmar hipóteses, realizar modelos preditivos, forecasts, análise de cluster para resolver problemas pontuais e responder perguntas das áreas de negócio.  773 non-null    float64\n",
      " 44  8.d.2_Coletando e limpando dos dados que uso para análise e modelagem.                                                                                                                               773 non-null    float64\n",
      " 45  8.d.3_Entrando em contato com os times de negócio para definição do problema, identificar a solução e apresentação de resultados.                                                                    773 non-null    float64\n",
      " 46  8.d.4_Desenvolvendo modelos de Machine Learning com o objetivo de colocar em produção em sistemas (produtos de dados).                                                                               773 non-null    float64\n",
      " 47  8.d.5_Colocando modelos em produção, criando os pipelines de dados, APIs de consumo e monitoramento.                                                                                                 773 non-null    float64\n",
      " 48  8.d.6_Cuidando da manutenção de modelos de Machine Learning já em produção, atuando no monitoramento, ajustes e refatoração quando necessário.                                                       773 non-null    float64\n",
      " 49  8.d.7_Realizando construções de dashboards em ferramentas de BI como PowerBI, Tableau, Looker, Qlik, etc.                                                                                            773 non-null    float64\n",
      " 50  8.d.8_Utilizando ferramentas avançadas de estatística como SAS, SPSS, Stata etc, para realizar análises.                                                                                             773 non-null    float64\n",
      " 51  8.d.9_Criando e dando manutenção em ETLs, DAGs e automações de pipelines de dados.                                                                                                                   773 non-null    float64\n",
      " 52  8.d.10_Criando e gerenciando soluções de Feature Store e cultura de MLOps.                                                                                                                           773 non-null    float64\n",
      " 53  8.d.11_Criando e mantendo a infra que meus modelos e soluções rodam (clusters, servidores, API, containers, etc.)                                                                                    773 non-null    float64\n",
      " 54  8.d.12_Treinando e aplicando LLM's para solucionar problemas de negócio.                                                                                                                             773 non-null    float64\n",
      "dtypes: float64(49), object(6)\n",
      "memory usage: 2.2+ MB\n"
     ]
    }
   ],
   "source": [
    "parte8.info()"
   ]
  },
  {
   "cell_type": "code",
   "execution_count": 56,
   "metadata": {
    "colab": {
     "base_uri": "https://localhost:8080/"
    },
    "id": "iVHD1YtrViBG",
    "outputId": "e54e8657-22b3-4335-b44b-8880da40f4ac"
   },
   "outputs": [
    {
     "data": {
      "text/plain": [
       "['0.a_token',\n",
       " ['1.a_idade',\n",
       "  '1.b_genero',\n",
       "  '1.c_cor/raca/etnia',\n",
       "  '1.d_pcd',\n",
       "  '1.i.1_uf_onde_mora',\n",
       "  '1.g_vive_no_brasil',\n",
       "  '1.h_pais_onde_mora',\n",
       "  '1.l_nivel_de_ensino',\n",
       "  '1.m_área_de_formação'],\n",
       " ['2.a_situação_de_trabalho',\n",
       "  '2.b_setor',\n",
       "  '2.f_cargo_atual',\n",
       "  '2.g_nivel',\n",
       "  '2.h_faixa_salarial',\n",
       "  '2.i_tempo_de_experiencia_em_dados',\n",
       "  '2.r_modelo_de_trabalho_atual',\n",
       "  '2.s_modelo_de_trabalho_ideal']]"
      ]
     },
     "execution_count": 56,
     "metadata": {},
     "output_type": "execute_result"
    }
   ],
   "source": [
    "colunas_uteis"
   ]
  },
  {
   "cell_type": "markdown",
   "metadata": {
    "id": "kgosUHxHZ3uo"
   },
   "source": [
    "> Optamos por não fazer um maior tratamento das colunas oriundas de one hot encoding, coletando apenas dados daquelas com respostas prontas"
   ]
  },
  {
   "cell_type": "markdown",
   "metadata": {
    "id": "jbnsAYI1YEmA"
   },
   "source": [
    "### Selecionando colúnas para AED posterior:"
   ]
  },
  {
   "cell_type": "code",
   "execution_count": 57,
   "metadata": {
    "colab": {
     "base_uri": "https://localhost:8080/"
    },
    "id": "cZs5hj08X67w",
    "outputId": "e793724a-3850-4ca5-9bee-920833c14bb6"
   },
   "outputs": [
    {
     "data": {
      "text/plain": [
       "['0.a_token',\n",
       " '1.a_idade',\n",
       " '1.b_genero',\n",
       " '1.c_cor/raca/etnia',\n",
       " '1.d_pcd',\n",
       " '1.i.1_uf_onde_mora',\n",
       " '1.g_vive_no_brasil',\n",
       " '1.h_pais_onde_mora',\n",
       " '1.l_nivel_de_ensino',\n",
       " '1.m_área_de_formação',\n",
       " '2.a_situação_de_trabalho',\n",
       " '2.b_setor',\n",
       " '2.f_cargo_atual',\n",
       " '2.g_nivel',\n",
       " '2.h_faixa_salarial',\n",
       " '2.i_tempo_de_experiencia_em_dados',\n",
       " '2.r_modelo_de_trabalho_atual',\n",
       " '2.s_modelo_de_trabalho_ideal']"
      ]
     },
     "execution_count": 57,
     "metadata": {},
     "output_type": "execute_result"
    }
   ],
   "source": [
    "# Função flatten\n",
    "def flatten(lista):\n",
    "    resultado = []\n",
    "    for item in lista:\n",
    "        if isinstance(item, list):\n",
    "            resultado.extend(flatten(item))  # recursivo\n",
    "        else:\n",
    "            resultado.append(item)\n",
    "    return resultado\n",
    "\n",
    "# Deixando lista flatten\n",
    "colunas_uteis = flatten(colunas_uteis)\n",
    "colunas_uteis"
   ]
  },
  {
   "cell_type": "code",
   "execution_count": 58,
   "metadata": {
    "colab": {
     "base_uri": "https://localhost:8080/"
    },
    "id": "05PfnpIRY-NQ",
    "outputId": "227a7245-ebc3-425e-e511-e617414741c7"
   },
   "outputs": [
    {
     "data": {
      "text/html": [
       "<div>\n",
       "<style scoped>\n",
       "    .dataframe tbody tr th:only-of-type {\n",
       "        vertical-align: middle;\n",
       "    }\n",
       "\n",
       "    .dataframe tbody tr th {\n",
       "        vertical-align: top;\n",
       "    }\n",
       "\n",
       "    .dataframe thead th {\n",
       "        text-align: right;\n",
       "    }\n",
       "</style>\n",
       "<table border=\"1\" class=\"dataframe\">\n",
       "  <thead>\n",
       "    <tr style=\"text-align: right;\">\n",
       "      <th></th>\n",
       "      <th>0.a_token</th>\n",
       "      <th>1.a_idade</th>\n",
       "      <th>1.b_genero</th>\n",
       "      <th>1.c_cor/raca/etnia</th>\n",
       "      <th>1.d_pcd</th>\n",
       "      <th>1.i.1_uf_onde_mora</th>\n",
       "      <th>1.g_vive_no_brasil</th>\n",
       "      <th>1.h_pais_onde_mora</th>\n",
       "      <th>1.l_nivel_de_ensino</th>\n",
       "      <th>1.m_área_de_formação</th>\n",
       "      <th>2.a_situação_de_trabalho</th>\n",
       "      <th>2.b_setor</th>\n",
       "      <th>2.f_cargo_atual</th>\n",
       "      <th>2.g_nivel</th>\n",
       "      <th>2.h_faixa_salarial</th>\n",
       "      <th>2.i_tempo_de_experiencia_em_dados</th>\n",
       "      <th>2.r_modelo_de_trabalho_atual</th>\n",
       "      <th>2.s_modelo_de_trabalho_ideal</th>\n",
       "    </tr>\n",
       "  </thead>\n",
       "  <tbody>\n",
       "    <tr>\n",
       "      <th>0</th>\n",
       "      <td>reb94rv0msth7q4nreb94riaq80iz3yi</td>\n",
       "      <td>18</td>\n",
       "      <td>Masculino</td>\n",
       "      <td>Branca</td>\n",
       "      <td>Não</td>\n",
       "      <td>RS</td>\n",
       "      <td>True</td>\n",
       "      <td>NaN</td>\n",
       "      <td>Estudante de Graduação</td>\n",
       "      <td>Computação / Engenharia de Software / Sistemas...</td>\n",
       "      <td>Estagiário</td>\n",
       "      <td>Marketing</td>\n",
       "      <td>Analista de Dados/Data Analyst</td>\n",
       "      <td>Júnior</td>\n",
       "      <td>de R$ 1.001/mês a R$ 2.000/mês</td>\n",
       "      <td>de 1 a 2 anos</td>\n",
       "      <td>Modelo 100% remoto</td>\n",
       "      <td>Modelo híbrido flexível (o funcionário tem lib...</td>\n",
       "    </tr>\n",
       "    <tr>\n",
       "      <th>1</th>\n",
       "      <td>1zc66g69jjt49y32l1zc66g8wqj79m4e</td>\n",
       "      <td>18</td>\n",
       "      <td>Masculino</td>\n",
       "      <td>Branca</td>\n",
       "      <td>Não</td>\n",
       "      <td>SC</td>\n",
       "      <td>True</td>\n",
       "      <td>NaN</td>\n",
       "      <td>Estudante de Graduação</td>\n",
       "      <td>Computação / Engenharia de Software / Sistemas...</td>\n",
       "      <td>Estagiário</td>\n",
       "      <td>Finanças ou Bancos</td>\n",
       "      <td>Analista de BI/BI Analyst</td>\n",
       "      <td>Júnior</td>\n",
       "      <td>Menos de R$ 1.000/mês</td>\n",
       "      <td>Menos de 1 ano</td>\n",
       "      <td>Modelo 100% presencial</td>\n",
       "      <td>Modelo 100% presencial</td>\n",
       "    </tr>\n",
       "    <tr>\n",
       "      <th>2</th>\n",
       "      <td>uu99wmam4n5kc2uu99wmydf0rk7l58f7</td>\n",
       "      <td>18</td>\n",
       "      <td>Masculino</td>\n",
       "      <td>Parda</td>\n",
       "      <td>Não</td>\n",
       "      <td>SP</td>\n",
       "      <td>True</td>\n",
       "      <td>NaN</td>\n",
       "      <td>Estudante de Graduação</td>\n",
       "      <td>Computação / Engenharia de Software / Sistemas...</td>\n",
       "      <td>Empregado (CLT)</td>\n",
       "      <td>Indústria</td>\n",
       "      <td>Outra Opção</td>\n",
       "      <td>Júnior</td>\n",
       "      <td>de R$ 1.001/mês a R$ 2.000/mês</td>\n",
       "      <td>Não tenho experiência na área de dados</td>\n",
       "      <td>Modelo 100% presencial</td>\n",
       "      <td>Modelo híbrido com dias fixos de trabalho pres...</td>\n",
       "    </tr>\n",
       "    <tr>\n",
       "      <th>3</th>\n",
       "      <td>3ynsw7z0hl5hhpbfvaeqk73ynsw7z04l</td>\n",
       "      <td>18</td>\n",
       "      <td>Masculino</td>\n",
       "      <td>Branca</td>\n",
       "      <td>Não</td>\n",
       "      <td>SP</td>\n",
       "      <td>True</td>\n",
       "      <td>NaN</td>\n",
       "      <td>Estudante de Graduação</td>\n",
       "      <td>Computação / Engenharia de Software / Sistemas...</td>\n",
       "      <td>Estagiário</td>\n",
       "      <td>Tecnologia/Fábrica de Software</td>\n",
       "      <td>Analista de Dados/Data Analyst</td>\n",
       "      <td>Júnior</td>\n",
       "      <td>de R$ 1.001/mês a R$ 2.000/mês</td>\n",
       "      <td>Menos de 1 ano</td>\n",
       "      <td>Modelo híbrido flexível (o funcionário tem lib...</td>\n",
       "      <td>Modelo híbrido flexível (o funcionário tem lib...</td>\n",
       "    </tr>\n",
       "    <tr>\n",
       "      <th>4</th>\n",
       "      <td>v6bji2ct5xckpl1uouv6bjiotkrf3b4f</td>\n",
       "      <td>18</td>\n",
       "      <td>Masculino</td>\n",
       "      <td>Branca</td>\n",
       "      <td>Não</td>\n",
       "      <td>SP</td>\n",
       "      <td>True</td>\n",
       "      <td>NaN</td>\n",
       "      <td>Estudante de Graduação</td>\n",
       "      <td>Computação / Engenharia de Software / Sistemas...</td>\n",
       "      <td>Estagiário</td>\n",
       "      <td>Tecnologia/Fábrica de Software</td>\n",
       "      <td>Desenvolvedor/ Engenheiro de Software/ Analist...</td>\n",
       "      <td>Júnior</td>\n",
       "      <td>de R$ 1.001/mês a R$ 2.000/mês</td>\n",
       "      <td>Menos de 1 ano</td>\n",
       "      <td>Modelo 100% remoto</td>\n",
       "      <td>Modelo híbrido flexível (o funcionário tem lib...</td>\n",
       "    </tr>\n",
       "  </tbody>\n",
       "</table>\n",
       "</div>"
      ],
      "text/plain": [
       "                          0.a_token  1.a_idade 1.b_genero 1.c_cor/raca/etnia  \\\n",
       "0  reb94rv0msth7q4nreb94riaq80iz3yi         18  Masculino             Branca   \n",
       "1  1zc66g69jjt49y32l1zc66g8wqj79m4e         18  Masculino             Branca   \n",
       "2  uu99wmam4n5kc2uu99wmydf0rk7l58f7         18  Masculino              Parda   \n",
       "3  3ynsw7z0hl5hhpbfvaeqk73ynsw7z04l         18  Masculino             Branca   \n",
       "4  v6bji2ct5xckpl1uouv6bjiotkrf3b4f         18  Masculino             Branca   \n",
       "\n",
       "  1.d_pcd 1.i.1_uf_onde_mora  1.g_vive_no_brasil 1.h_pais_onde_mora  \\\n",
       "0     Não                 RS                True                NaN   \n",
       "1     Não                 SC                True                NaN   \n",
       "2     Não                 SP                True                NaN   \n",
       "3     Não                 SP                True                NaN   \n",
       "4     Não                 SP                True                NaN   \n",
       "\n",
       "      1.l_nivel_de_ensino                               1.m_área_de_formação  \\\n",
       "0  Estudante de Graduação  Computação / Engenharia de Software / Sistemas...   \n",
       "1  Estudante de Graduação  Computação / Engenharia de Software / Sistemas...   \n",
       "2  Estudante de Graduação  Computação / Engenharia de Software / Sistemas...   \n",
       "3  Estudante de Graduação  Computação / Engenharia de Software / Sistemas...   \n",
       "4  Estudante de Graduação  Computação / Engenharia de Software / Sistemas...   \n",
       "\n",
       "  2.a_situação_de_trabalho                       2.b_setor  \\\n",
       "0               Estagiário                       Marketing   \n",
       "1               Estagiário              Finanças ou Bancos   \n",
       "2          Empregado (CLT)                       Indústria   \n",
       "3               Estagiário  Tecnologia/Fábrica de Software   \n",
       "4               Estagiário  Tecnologia/Fábrica de Software   \n",
       "\n",
       "                                     2.f_cargo_atual 2.g_nivel  \\\n",
       "0                     Analista de Dados/Data Analyst    Júnior   \n",
       "1                          Analista de BI/BI Analyst    Júnior   \n",
       "2                                        Outra Opção    Júnior   \n",
       "3                     Analista de Dados/Data Analyst    Júnior   \n",
       "4  Desenvolvedor/ Engenheiro de Software/ Analist...    Júnior   \n",
       "\n",
       "               2.h_faixa_salarial       2.i_tempo_de_experiencia_em_dados  \\\n",
       "0  de R$ 1.001/mês a R$ 2.000/mês                           de 1 a 2 anos   \n",
       "1           Menos de R$ 1.000/mês                          Menos de 1 ano   \n",
       "2  de R$ 1.001/mês a R$ 2.000/mês  Não tenho experiência na área de dados   \n",
       "3  de R$ 1.001/mês a R$ 2.000/mês                          Menos de 1 ano   \n",
       "4  de R$ 1.001/mês a R$ 2.000/mês                          Menos de 1 ano   \n",
       "\n",
       "                        2.r_modelo_de_trabalho_atual  \\\n",
       "0                                 Modelo 100% remoto   \n",
       "1                             Modelo 100% presencial   \n",
       "2                             Modelo 100% presencial   \n",
       "3  Modelo híbrido flexível (o funcionário tem lib...   \n",
       "4                                 Modelo 100% remoto   \n",
       "\n",
       "                        2.s_modelo_de_trabalho_ideal  \n",
       "0  Modelo híbrido flexível (o funcionário tem lib...  \n",
       "1                             Modelo 100% presencial  \n",
       "2  Modelo híbrido com dias fixos de trabalho pres...  \n",
       "3  Modelo híbrido flexível (o funcionário tem lib...  \n",
       "4  Modelo híbrido flexível (o funcionário tem lib...  "
      ]
     },
     "execution_count": 58,
     "metadata": {},
     "output_type": "execute_result"
    }
   ],
   "source": [
    "# Conjunto de dados apenas com colunas separadas\n",
    "dados = df[colunas_uteis].copy()\n",
    "dados.head()"
   ]
  },
  {
   "cell_type": "markdown",
   "metadata": {
    "id": "48Z3Xpf-ZKmA"
   },
   "source": [
    "### Renomeando colunas:"
   ]
  },
  {
   "cell_type": "code",
   "execution_count": 59,
   "metadata": {
    "colab": {
     "base_uri": "https://localhost:8080/"
    },
    "id": "tKqKLpfWYaYg",
    "outputId": "19660ef8-7df4-4da7-b6b2-c7c2419999b0"
   },
   "outputs": [
    {
     "data": {
      "text/html": [
       "<div>\n",
       "<style scoped>\n",
       "    .dataframe tbody tr th:only-of-type {\n",
       "        vertical-align: middle;\n",
       "    }\n",
       "\n",
       "    .dataframe tbody tr th {\n",
       "        vertical-align: top;\n",
       "    }\n",
       "\n",
       "    .dataframe thead th {\n",
       "        text-align: right;\n",
       "    }\n",
       "</style>\n",
       "<table border=\"1\" class=\"dataframe\">\n",
       "  <thead>\n",
       "    <tr style=\"text-align: right;\">\n",
       "      <th></th>\n",
       "      <th>token</th>\n",
       "      <th>idade</th>\n",
       "      <th>genero</th>\n",
       "      <th>raca_cor_etnia</th>\n",
       "      <th>pcd</th>\n",
       "      <th>uf_onde_mora</th>\n",
       "      <th>vive_no_brasil</th>\n",
       "      <th>pais_onde_mora</th>\n",
       "      <th>nivel_de_ensino</th>\n",
       "      <th>area_de_formacao</th>\n",
       "      <th>situacao_de_trabalho</th>\n",
       "      <th>setor</th>\n",
       "      <th>cargo_atual</th>\n",
       "      <th>nivel_profissional</th>\n",
       "      <th>faixa_salarial</th>\n",
       "      <th>tempo_experiencia_dados</th>\n",
       "      <th>modelo_trabalho_atual</th>\n",
       "      <th>modelo_trabalho_ideal</th>\n",
       "    </tr>\n",
       "  </thead>\n",
       "  <tbody>\n",
       "    <tr>\n",
       "      <th>0</th>\n",
       "      <td>reb94rv0msth7q4nreb94riaq80iz3yi</td>\n",
       "      <td>18</td>\n",
       "      <td>Masculino</td>\n",
       "      <td>Branca</td>\n",
       "      <td>Não</td>\n",
       "      <td>RS</td>\n",
       "      <td>True</td>\n",
       "      <td>NaN</td>\n",
       "      <td>Estudante de Graduação</td>\n",
       "      <td>Computação / Engenharia de Software / Sistemas...</td>\n",
       "      <td>Estagiário</td>\n",
       "      <td>Marketing</td>\n",
       "      <td>Analista de Dados/Data Analyst</td>\n",
       "      <td>Júnior</td>\n",
       "      <td>de R$ 1.001/mês a R$ 2.000/mês</td>\n",
       "      <td>de 1 a 2 anos</td>\n",
       "      <td>Modelo 100% remoto</td>\n",
       "      <td>Modelo híbrido flexível (o funcionário tem lib...</td>\n",
       "    </tr>\n",
       "    <tr>\n",
       "      <th>1</th>\n",
       "      <td>1zc66g69jjt49y32l1zc66g8wqj79m4e</td>\n",
       "      <td>18</td>\n",
       "      <td>Masculino</td>\n",
       "      <td>Branca</td>\n",
       "      <td>Não</td>\n",
       "      <td>SC</td>\n",
       "      <td>True</td>\n",
       "      <td>NaN</td>\n",
       "      <td>Estudante de Graduação</td>\n",
       "      <td>Computação / Engenharia de Software / Sistemas...</td>\n",
       "      <td>Estagiário</td>\n",
       "      <td>Finanças ou Bancos</td>\n",
       "      <td>Analista de BI/BI Analyst</td>\n",
       "      <td>Júnior</td>\n",
       "      <td>Menos de R$ 1.000/mês</td>\n",
       "      <td>Menos de 1 ano</td>\n",
       "      <td>Modelo 100% presencial</td>\n",
       "      <td>Modelo 100% presencial</td>\n",
       "    </tr>\n",
       "    <tr>\n",
       "      <th>2</th>\n",
       "      <td>uu99wmam4n5kc2uu99wmydf0rk7l58f7</td>\n",
       "      <td>18</td>\n",
       "      <td>Masculino</td>\n",
       "      <td>Parda</td>\n",
       "      <td>Não</td>\n",
       "      <td>SP</td>\n",
       "      <td>True</td>\n",
       "      <td>NaN</td>\n",
       "      <td>Estudante de Graduação</td>\n",
       "      <td>Computação / Engenharia de Software / Sistemas...</td>\n",
       "      <td>Empregado (CLT)</td>\n",
       "      <td>Indústria</td>\n",
       "      <td>Outra Opção</td>\n",
       "      <td>Júnior</td>\n",
       "      <td>de R$ 1.001/mês a R$ 2.000/mês</td>\n",
       "      <td>Não tenho experiência na área de dados</td>\n",
       "      <td>Modelo 100% presencial</td>\n",
       "      <td>Modelo híbrido com dias fixos de trabalho pres...</td>\n",
       "    </tr>\n",
       "    <tr>\n",
       "      <th>3</th>\n",
       "      <td>3ynsw7z0hl5hhpbfvaeqk73ynsw7z04l</td>\n",
       "      <td>18</td>\n",
       "      <td>Masculino</td>\n",
       "      <td>Branca</td>\n",
       "      <td>Não</td>\n",
       "      <td>SP</td>\n",
       "      <td>True</td>\n",
       "      <td>NaN</td>\n",
       "      <td>Estudante de Graduação</td>\n",
       "      <td>Computação / Engenharia de Software / Sistemas...</td>\n",
       "      <td>Estagiário</td>\n",
       "      <td>Tecnologia/Fábrica de Software</td>\n",
       "      <td>Analista de Dados/Data Analyst</td>\n",
       "      <td>Júnior</td>\n",
       "      <td>de R$ 1.001/mês a R$ 2.000/mês</td>\n",
       "      <td>Menos de 1 ano</td>\n",
       "      <td>Modelo híbrido flexível (o funcionário tem lib...</td>\n",
       "      <td>Modelo híbrido flexível (o funcionário tem lib...</td>\n",
       "    </tr>\n",
       "    <tr>\n",
       "      <th>4</th>\n",
       "      <td>v6bji2ct5xckpl1uouv6bjiotkrf3b4f</td>\n",
       "      <td>18</td>\n",
       "      <td>Masculino</td>\n",
       "      <td>Branca</td>\n",
       "      <td>Não</td>\n",
       "      <td>SP</td>\n",
       "      <td>True</td>\n",
       "      <td>NaN</td>\n",
       "      <td>Estudante de Graduação</td>\n",
       "      <td>Computação / Engenharia de Software / Sistemas...</td>\n",
       "      <td>Estagiário</td>\n",
       "      <td>Tecnologia/Fábrica de Software</td>\n",
       "      <td>Desenvolvedor/ Engenheiro de Software/ Analist...</td>\n",
       "      <td>Júnior</td>\n",
       "      <td>de R$ 1.001/mês a R$ 2.000/mês</td>\n",
       "      <td>Menos de 1 ano</td>\n",
       "      <td>Modelo 100% remoto</td>\n",
       "      <td>Modelo híbrido flexível (o funcionário tem lib...</td>\n",
       "    </tr>\n",
       "  </tbody>\n",
       "</table>\n",
       "</div>"
      ],
      "text/plain": [
       "                              token  idade     genero raca_cor_etnia  pcd  \\\n",
       "0  reb94rv0msth7q4nreb94riaq80iz3yi     18  Masculino         Branca  Não   \n",
       "1  1zc66g69jjt49y32l1zc66g8wqj79m4e     18  Masculino         Branca  Não   \n",
       "2  uu99wmam4n5kc2uu99wmydf0rk7l58f7     18  Masculino          Parda  Não   \n",
       "3  3ynsw7z0hl5hhpbfvaeqk73ynsw7z04l     18  Masculino         Branca  Não   \n",
       "4  v6bji2ct5xckpl1uouv6bjiotkrf3b4f     18  Masculino         Branca  Não   \n",
       "\n",
       "  uf_onde_mora  vive_no_brasil pais_onde_mora         nivel_de_ensino  \\\n",
       "0           RS            True            NaN  Estudante de Graduação   \n",
       "1           SC            True            NaN  Estudante de Graduação   \n",
       "2           SP            True            NaN  Estudante de Graduação   \n",
       "3           SP            True            NaN  Estudante de Graduação   \n",
       "4           SP            True            NaN  Estudante de Graduação   \n",
       "\n",
       "                                    area_de_formacao situacao_de_trabalho  \\\n",
       "0  Computação / Engenharia de Software / Sistemas...           Estagiário   \n",
       "1  Computação / Engenharia de Software / Sistemas...           Estagiário   \n",
       "2  Computação / Engenharia de Software / Sistemas...      Empregado (CLT)   \n",
       "3  Computação / Engenharia de Software / Sistemas...           Estagiário   \n",
       "4  Computação / Engenharia de Software / Sistemas...           Estagiário   \n",
       "\n",
       "                            setor  \\\n",
       "0                       Marketing   \n",
       "1              Finanças ou Bancos   \n",
       "2                       Indústria   \n",
       "3  Tecnologia/Fábrica de Software   \n",
       "4  Tecnologia/Fábrica de Software   \n",
       "\n",
       "                                         cargo_atual nivel_profissional  \\\n",
       "0                     Analista de Dados/Data Analyst             Júnior   \n",
       "1                          Analista de BI/BI Analyst             Júnior   \n",
       "2                                        Outra Opção             Júnior   \n",
       "3                     Analista de Dados/Data Analyst             Júnior   \n",
       "4  Desenvolvedor/ Engenheiro de Software/ Analist...             Júnior   \n",
       "\n",
       "                   faixa_salarial                 tempo_experiencia_dados  \\\n",
       "0  de R$ 1.001/mês a R$ 2.000/mês                           de 1 a 2 anos   \n",
       "1           Menos de R$ 1.000/mês                          Menos de 1 ano   \n",
       "2  de R$ 1.001/mês a R$ 2.000/mês  Não tenho experiência na área de dados   \n",
       "3  de R$ 1.001/mês a R$ 2.000/mês                          Menos de 1 ano   \n",
       "4  de R$ 1.001/mês a R$ 2.000/mês                          Menos de 1 ano   \n",
       "\n",
       "                               modelo_trabalho_atual  \\\n",
       "0                                 Modelo 100% remoto   \n",
       "1                             Modelo 100% presencial   \n",
       "2                             Modelo 100% presencial   \n",
       "3  Modelo híbrido flexível (o funcionário tem lib...   \n",
       "4                                 Modelo 100% remoto   \n",
       "\n",
       "                               modelo_trabalho_ideal  \n",
       "0  Modelo híbrido flexível (o funcionário tem lib...  \n",
       "1                             Modelo 100% presencial  \n",
       "2  Modelo híbrido com dias fixos de trabalho pres...  \n",
       "3  Modelo híbrido flexível (o funcionário tem lib...  \n",
       "4  Modelo híbrido flexível (o funcionário tem lib...  "
      ]
     },
     "execution_count": 59,
     "metadata": {},
     "output_type": "execute_result"
    }
   ],
   "source": [
    "# Renomeando colunas:\n",
    "nomes_renomeados = {\n",
    "    '0.a_token': 'token',\n",
    "    '1.a_idade': 'idade',\n",
    "    '1.b_genero': 'genero',\n",
    "    '1.c_cor/raca/etnia': 'raca_cor_etnia',\n",
    "    '1.d_pcd': 'pcd',\n",
    "    '1.i.1_uf_onde_mora': 'uf_onde_mora',\n",
    "    '1.g_vive_no_brasil': 'vive_no_brasil',\n",
    "    '1.h_pais_onde_mora': 'pais_onde_mora',\n",
    "    '1.l_nivel_de_ensino': 'nivel_de_ensino',\n",
    "    '1.m_área_de_formação': 'area_de_formacao',\n",
    "    '2.a_situação_de_trabalho': 'situacao_de_trabalho',\n",
    "    '2.b_setor': 'setor',\n",
    "    '2.f_cargo_atual': 'cargo_atual',\n",
    "    '2.g_nivel': 'nivel_profissional',\n",
    "    '2.h_faixa_salarial': 'faixa_salarial',\n",
    "    '2.i_tempo_de_experiencia_em_dados': 'tempo_experiencia_dados',\n",
    "    '2.r_modelo_de_trabalho_atual': 'modelo_trabalho_atual',\n",
    "    '2.s_modelo_de_trabalho_ideal': 'modelo_trabalho_ideal'\n",
    "}\n",
    "dados.rename(columns=nomes_renomeados, inplace=True)\n",
    "dados.head()"
   ]
  },
  {
   "cell_type": "markdown",
   "metadata": {
    "id": "sLrJpvjbmVkh"
   },
   "source": [
    "### Dados Nulos"
   ]
  },
  {
   "cell_type": "code",
   "execution_count": 60,
   "metadata": {
    "colab": {
     "base_uri": "https://localhost:8080/"
    },
    "id": "TJEVznPZZP-_",
    "outputId": "61bed6ca-c157-4205-c74c-dca9bf215aec"
   },
   "outputs": [
    {
     "data": {
      "text/html": [
       "<div>\n",
       "<style scoped>\n",
       "    .dataframe tbody tr th:only-of-type {\n",
       "        vertical-align: middle;\n",
       "    }\n",
       "\n",
       "    .dataframe tbody tr th {\n",
       "        vertical-align: top;\n",
       "    }\n",
       "\n",
       "    .dataframe thead th {\n",
       "        text-align: right;\n",
       "    }\n",
       "</style>\n",
       "<table border=\"1\" class=\"dataframe\">\n",
       "  <thead>\n",
       "    <tr style=\"text-align: right;\">\n",
       "      <th></th>\n",
       "      <th>Coluna</th>\n",
       "      <th>Quantidade de Nulos</th>\n",
       "      <th>Percentual(%)</th>\n",
       "    </tr>\n",
       "  </thead>\n",
       "  <tbody>\n",
       "    <tr>\n",
       "      <th>0</th>\n",
       "      <td>pais_onde_mora</td>\n",
       "      <td>5078</td>\n",
       "      <td>97.335634</td>\n",
       "    </tr>\n",
       "    <tr>\n",
       "      <th>1</th>\n",
       "      <td>nivel_profissional</td>\n",
       "      <td>1399</td>\n",
       "      <td>26.816178</td>\n",
       "    </tr>\n",
       "    <tr>\n",
       "      <th>2</th>\n",
       "      <td>cargo_atual</td>\n",
       "      <td>1399</td>\n",
       "      <td>26.816178</td>\n",
       "    </tr>\n",
       "    <tr>\n",
       "      <th>3</th>\n",
       "      <td>setor</td>\n",
       "      <td>354</td>\n",
       "      <td>6.785509</td>\n",
       "    </tr>\n",
       "    <tr>\n",
       "      <th>4</th>\n",
       "      <td>faixa_salarial</td>\n",
       "      <td>354</td>\n",
       "      <td>6.785509</td>\n",
       "    </tr>\n",
       "    <tr>\n",
       "      <th>5</th>\n",
       "      <td>modelo_trabalho_ideal</td>\n",
       "      <td>354</td>\n",
       "      <td>6.785509</td>\n",
       "    </tr>\n",
       "    <tr>\n",
       "      <th>6</th>\n",
       "      <td>tempo_experiencia_dados</td>\n",
       "      <td>354</td>\n",
       "      <td>6.785509</td>\n",
       "    </tr>\n",
       "    <tr>\n",
       "      <th>7</th>\n",
       "      <td>modelo_trabalho_atual</td>\n",
       "      <td>354</td>\n",
       "      <td>6.785509</td>\n",
       "    </tr>\n",
       "    <tr>\n",
       "      <th>8</th>\n",
       "      <td>uf_onde_mora</td>\n",
       "      <td>142</td>\n",
       "      <td>2.721871</td>\n",
       "    </tr>\n",
       "    <tr>\n",
       "      <th>9</th>\n",
       "      <td>area_de_formacao</td>\n",
       "      <td>94</td>\n",
       "      <td>1.801802</td>\n",
       "    </tr>\n",
       "    <tr>\n",
       "      <th>10</th>\n",
       "      <td>idade</td>\n",
       "      <td>0</td>\n",
       "      <td>0.000000</td>\n",
       "    </tr>\n",
       "    <tr>\n",
       "      <th>11</th>\n",
       "      <td>token</td>\n",
       "      <td>0</td>\n",
       "      <td>0.000000</td>\n",
       "    </tr>\n",
       "    <tr>\n",
       "      <th>12</th>\n",
       "      <td>nivel_de_ensino</td>\n",
       "      <td>0</td>\n",
       "      <td>0.000000</td>\n",
       "    </tr>\n",
       "    <tr>\n",
       "      <th>13</th>\n",
       "      <td>pcd</td>\n",
       "      <td>0</td>\n",
       "      <td>0.000000</td>\n",
       "    </tr>\n",
       "    <tr>\n",
       "      <th>14</th>\n",
       "      <td>genero</td>\n",
       "      <td>0</td>\n",
       "      <td>0.000000</td>\n",
       "    </tr>\n",
       "    <tr>\n",
       "      <th>15</th>\n",
       "      <td>vive_no_brasil</td>\n",
       "      <td>0</td>\n",
       "      <td>0.000000</td>\n",
       "    </tr>\n",
       "    <tr>\n",
       "      <th>16</th>\n",
       "      <td>raca_cor_etnia</td>\n",
       "      <td>0</td>\n",
       "      <td>0.000000</td>\n",
       "    </tr>\n",
       "    <tr>\n",
       "      <th>17</th>\n",
       "      <td>situacao_de_trabalho</td>\n",
       "      <td>0</td>\n",
       "      <td>0.000000</td>\n",
       "    </tr>\n",
       "  </tbody>\n",
       "</table>\n",
       "</div>"
      ],
      "text/plain": [
       "                     Coluna  Quantidade de Nulos  Percentual(%)\n",
       "0            pais_onde_mora                 5078      97.335634\n",
       "1        nivel_profissional                 1399      26.816178\n",
       "2               cargo_atual                 1399      26.816178\n",
       "3                     setor                  354       6.785509\n",
       "4            faixa_salarial                  354       6.785509\n",
       "5     modelo_trabalho_ideal                  354       6.785509\n",
       "6   tempo_experiencia_dados                  354       6.785509\n",
       "7     modelo_trabalho_atual                  354       6.785509\n",
       "8              uf_onde_mora                  142       2.721871\n",
       "9          area_de_formacao                   94       1.801802\n",
       "10                    idade                    0       0.000000\n",
       "11                    token                    0       0.000000\n",
       "12          nivel_de_ensino                    0       0.000000\n",
       "13                      pcd                    0       0.000000\n",
       "14                   genero                    0       0.000000\n",
       "15           vive_no_brasil                    0       0.000000\n",
       "16           raca_cor_etnia                    0       0.000000\n",
       "17     situacao_de_trabalho                    0       0.000000"
      ]
     },
     "execution_count": 60,
     "metadata": {},
     "output_type": "execute_result"
    }
   ],
   "source": [
    "# Exibindo colunas com dados nulos\n",
    "nulos = dados.isnull().sum()\n",
    "nulos_df = pd.DataFrame({'Coluna': nulos.index, 'Quantidade de Nulos': nulos.values})\n",
    "nulos_df['Percentual(%)'] = nulos_df['Quantidade de Nulos'] / len(dados) * 100\n",
    "nulos_df.sort_values(by='Percentual(%)', ascending=False).reset_index(drop=True)"
   ]
  },
  {
   "cell_type": "code",
   "execution_count": 61,
   "metadata": {
    "colab": {
     "base_uri": "https://localhost:8080/"
    },
    "id": "yDgAtLsYmZJD",
    "outputId": "ff436d13-6334-4b1c-fc62-44b34bea561d"
   },
   "outputs": [
    {
     "data": {
      "text/plain": [
       "<Axes: >"
      ]
     },
     "execution_count": 61,
     "metadata": {},
     "output_type": "execute_result"
    },
    {
     "data": {
      "image/png": "[encoded data removed]",
      "text/plain": [
       "<Figure size 2500x1000 with 2 Axes>"
      ]
     },
     "metadata": {},
     "output_type": "display_data"
    }
   ],
   "source": [
    "# Gráfico de nulos\n",
    "filtered_data = msno.nullity_sort(dados, sort='descending')\n",
    "msno.matrix(filtered_data)"
   ]
  },
  {
   "cell_type": "markdown",
   "metadata": {
    "id": "zJbdDlFNzBbO"
   },
   "source": [
    "> A maior quantidade de dados nulos está presente na coluna 'pais_onde_mora', que parece ter dados nulos altamente correlacionados com a coluna de 'uf_onde_mora'\n",
    "\n",
    "> É demonstrada a possibilidade de correlação forte e direta entre 'setor' com 'modelo_trabalho_ideal', 'modelo_trabalho_atual', 'tempo_experiencia_dados', 'faixa_salarial', em que é provável que sempre que um esteja nulo, o outro também."
   ]
  },
  {
   "cell_type": "code",
   "execution_count": 62,
   "metadata": {
    "colab": {
     "base_uri": "https://localhost:8080/"
    },
    "id": "rGA-8fRqtRts",
    "outputId": "ba201824-3802-4f4b-b59b-85bfb2cdc056"
   },
   "outputs": [
    {
     "data": {
      "text/plain": [
       "<Axes: >"
      ]
     },
     "execution_count": 62,
     "metadata": {},
     "output_type": "execute_result"
    },
    {
     "data": {
      "image/png": "[encoded data removed]",
      "text/plain": [
       "<Figure size 1000x800 with 2 Axes>"
      ]
     },
     "metadata": {},
     "output_type": "display_data"
    }
   ],
   "source": [
    "# Heatmap\n",
    "msno.heatmap(dados, figsize=(10,8))"
   ]
  },
  {
   "cell_type": "markdown",
   "metadata": {
    "id": "iZWBaY350dTc"
   },
   "source": [
    "##### Hipótese sobre 'uf_onde_mora', 'vive_no_brasil', 'pais_onde_mora'\n",
    "- Há a hipótese que os dados das 3 colunas estejam correlacionados:\n",
    "- Ex1: quem não mora no Brasil, não preencheu uf_onde_mora, mas sim pais_onde_mora apenas\n",
    "- Ex2: quem mora no Brasil, não preencheu pais_onde_mora, apenas uf_onde_mora"
   ]
  },
  {
   "cell_type": "code",
   "execution_count": 63,
   "metadata": {
    "colab": {
     "base_uri": "https://localhost:8080/"
    },
    "id": "inst2wQc0DM-",
    "outputId": "5bbf1526-2ba3-4422-adad-63174a86ed38"
   },
   "outputs": [
    {
     "name": "stdout",
     "output_type": "stream",
     "text": [
      "Total de dados:  5217\n",
      "Total de dados de quem não mora no Brasil:  139 \n",
      "\n",
      "Total de nulos nas colunas chave de quem mora no exterior:\n"
     ]
    },
    {
     "data": {
      "text/plain": [
       "vive_no_brasil      0\n",
       "uf_onde_mora      139\n",
       "pais_onde_mora      0\n",
       "dtype: int64"
      ]
     },
     "execution_count": 63,
     "metadata": {},
     "output_type": "execute_result"
    }
   ],
   "source": [
    "# Comprovação ex1 -> mora fora, não tem dados de uf_onde_mora, apenas pais_onde_mora\n",
    "colunas = ['vive_no_brasil', 'uf_onde_mora', 'pais_onde_mora']\n",
    "print(\"Total de dados: \", dados.shape[0])\n",
    "\n",
    "# Quem não mora no Brasil\n",
    "mora_fora = dados.loc[dados['vive_no_brasil'] == False, colunas].copy()\n",
    "print(\"Total de dados de quem não mora no Brasil: \", mora_fora.shape[0], \"\\n\")\n",
    "print(\"Total de nulos nas colunas chave de quem mora no exterior:\")\n",
    "mora_fora.isnull().sum()\n"
   ]
  },
  {
   "cell_type": "markdown",
   "metadata": {
    "id": "OWCShZ012dtW"
   },
   "source": [
    "> Ex1 confirmado, todos aqueles que moram fora do país, não tem dados na coluna 'uf_onde_mora', apenas em 'pais_onde_mora'"
   ]
  },
  {
   "cell_type": "code",
   "execution_count": 64,
   "metadata": {
    "colab": {
     "base_uri": "https://localhost:8080/"
    },
    "id": "RlBxE3aY0mJN",
    "outputId": "3209296b-aa9b-4b3e-d83a-468be9aff934"
   },
   "outputs": [
    {
     "name": "stdout",
     "output_type": "stream",
     "text": [
      "Total de dados:  5217\n",
      "Total de dados de quem mora no Brasil:  5078 \n",
      "\n",
      "Total de nulos nas colunas chave de quem mora no Brasil:\n"
     ]
    },
    {
     "data": {
      "text/plain": [
       "vive_no_brasil       0\n",
       "uf_onde_mora         3\n",
       "pais_onde_mora    5078\n",
       "dtype: int64"
      ]
     },
     "execution_count": 64,
     "metadata": {},
     "output_type": "execute_result"
    }
   ],
   "source": [
    "# Comprovação ex2 -> mora no Brasil, tem dados de uf_onde_mora, mas não pais_onde_mora\n",
    "print(\"Total de dados: \", dados.shape[0])\n",
    "\n",
    "# Quem mora no Brasil\n",
    "mora_no_brasil = dados.loc[dados['vive_no_brasil'] == True, colunas].copy()\n",
    "print(\"Total de dados de quem mora no Brasil: \", mora_no_brasil.shape[0], \"\\n\")\n",
    "print(\"Total de nulos nas colunas chave de quem mora no Brasil:\")\n",
    "mora_no_brasil.isnull().sum()"
   ]
  },
  {
   "cell_type": "markdown",
   "metadata": {
    "id": "OyZUDuXe3xD2"
   },
   "source": [
    "> Ex2 confirmado. todos aqueles que moram no Brasil, não tem dados em pais_onde_mora, apenas em 'uf_onde_mora', onde há até 3 casos de dados nulos"
   ]
  },
  {
   "cell_type": "markdown",
   "metadata": {
    "id": "G6SPmQ4Z4UmX"
   },
   "source": [
    "##### `uf_onde_mora`\n",
    "\n",
    "> É possível realizar um input de valores arbitrários, tratando o caso dos nulos devido a não serem moradores do Brasil."
   ]
  },
  {
   "cell_type": "code",
   "execution_count": 65,
   "metadata": {
    "colab": {
     "base_uri": "https://localhost:8080/"
    },
    "id": "wgQjpgI64bDc",
    "outputId": "e874dc97-2f07-4fa5-b5a8-dd2367a9e837"
   },
   "outputs": [
    {
     "data": {
      "text/plain": [
       "np.int64(3)"
      ]
     },
     "execution_count": 65,
     "metadata": {},
     "output_type": "execute_result"
    }
   ],
   "source": [
    "# Inputando valor de 'Fora do Brasil'\n",
    "condicao = dados['vive_no_brasil'] == False\n",
    "dados.loc[condicao, 'uf_onde_mora'] = 'Fora do Brasil'\n",
    "dados['uf_onde_mora'].isna().sum()"
   ]
  },
  {
   "cell_type": "markdown",
   "metadata": {
    "id": "FGR1Bn046rKd"
   },
   "source": [
    "> Ainda restam 3 dados nulos fora do caso visto, que, pelo valor representativo, são passíveis de serem excluídos"
   ]
  },
  {
   "cell_type": "code",
   "execution_count": 66,
   "metadata": {
    "colab": {
     "base_uri": "https://localhost:8080/"
    },
    "id": "3BcdYk786bTN",
    "outputId": "c2dda07c-161b-4a83-d863-40302dae2364"
   },
   "outputs": [
    {
     "data": {
      "text/plain": [
       "np.int64(0)"
      ]
     },
     "execution_count": 66,
     "metadata": {},
     "output_type": "execute_result"
    }
   ],
   "source": [
    "dados.dropna(subset=['uf_onde_mora'], inplace=True)\n",
    "dados['uf_onde_mora'].isna().sum()"
   ]
  },
  {
   "cell_type": "markdown",
   "metadata": {
    "id": "-zTahYRi7MmO"
   },
   "source": [
    "##### `pais_onde_mora`"
   ]
  },
  {
   "cell_type": "markdown",
   "metadata": {
    "id": "GrvSWwk17UwG"
   },
   "source": [
    "> É possível realizar um input com o valor 'Brasil', uma vez que já se sabe pela coluna 'vive_no_brasil', que é o país de habitação"
   ]
  },
  {
   "cell_type": "code",
   "execution_count": 67,
   "metadata": {
    "colab": {
     "base_uri": "https://localhost:8080/"
    },
    "id": "rwXWowvS7fXt",
    "outputId": "dcba9854-fd3e-4b96-99df-5f23388e5224"
   },
   "outputs": [
    {
     "name": "stderr",
     "output_type": "stream",
     "text": [
      "C:\\Users\\gabri\\AppData\\Local\\Temp\\ipykernel_80268\\2291979372.py:1: FutureWarning: A value is trying to be set on a copy of a DataFrame or Series through chained assignment using an inplace method.\n",
      "The behavior will change in pandas 3.0. This inplace method will never work because the intermediate object on which we are setting values always behaves as a copy.\n",
      "\n",
      "For example, when doing 'df[col].method(value, inplace=True)', try using 'df.method({col: value}, inplace=True)' or df[col] = df[col].method(value) instead, to perform the operation inplace on the original object.\n",
      "\n",
      "\n",
      "  dados['pais_onde_mora'].fillna('Brasil', inplace=True)\n"
     ]
    },
    {
     "data": {
      "text/plain": [
       "np.int64(0)"
      ]
     },
     "execution_count": 67,
     "metadata": {},
     "output_type": "execute_result"
    }
   ],
   "source": [
    "dados['pais_onde_mora'].fillna('Brasil', inplace=True)\n",
    "dados['pais_onde_mora'].isna().sum()"
   ]
  },
  {
   "cell_type": "markdown",
   "metadata": {
    "id": "e1jxpR13mnxQ"
   },
   "source": [
    "#### `tempo_experiencia_dados`\n",
    "\n",
    "> Tempo de experiencia em dados, tem correlação de nulos direta com outraas colunas como `nivel_profissional`, a que mais cabe uma exploração analítica"
   ]
  },
  {
   "cell_type": "code",
   "execution_count": 68,
   "metadata": {
    "id": "eduQTzNhLVkz"
   },
   "outputs": [],
   "source": [
    "tempo_nulo = dados.loc[dados['tempo_experiencia_dados'].isna(), :].copy()"
   ]
  },
  {
   "cell_type": "code",
   "execution_count": 69,
   "metadata": {
    "colab": {
     "base_uri": "https://localhost:8080/"
    },
    "id": "CFC3r3q8kcXJ",
    "outputId": "a3c1f3e2-7bb2-4ec4-d759-49728ec5d05d"
   },
   "outputs": [
    {
     "data": {
      "text/plain": [
       "Series([], Name: count, dtype: int64)"
      ]
     },
     "execution_count": 69,
     "metadata": {},
     "output_type": "execute_result"
    }
   ],
   "source": [
    "tempo_nulo['nivel_profissional'].value_counts()"
   ]
  },
  {
   "cell_type": "code",
   "execution_count": 70,
   "metadata": {
    "colab": {
     "base_uri": "https://localhost:8080/"
    },
    "id": "fQa-t34moN0A",
    "outputId": "a8fd2292-7eb4-4fba-cc6a-006ca7c5fdad"
   },
   "outputs": [
    {
     "data": {
      "text/plain": [
       "Series([], Name: count, dtype: int64)"
      ]
     },
     "execution_count": 70,
     "metadata": {},
     "output_type": "execute_result"
    }
   ],
   "source": [
    "tempo_nulo['cargo_atual'].value_counts()"
   ]
  },
  {
   "cell_type": "markdown",
   "metadata": {
    "id": "-xQkfR9gnsZp"
   },
   "source": [
    "> Todos os dados nulos da coluna de tempo de experiência, são nulos possivelmente devido ao fato de o registro indicar que o participante da pesquisa não respondeu pois não tem experiência profissional (é estudante, desempregado ou não informou)\n",
    "\n",
    "> De tal modo, é possível inputar algum valor nos nulos de tempo para assimilar esta constatação"
   ]
  },
  {
   "cell_type": "code",
   "execution_count": 71,
   "metadata": {
    "colab": {
     "base_uri": "https://localhost:8080/"
    },
    "id": "kWtYVcpyocTY",
    "outputId": "55317b31-e304-4397-a837-2a10b3b38b1f"
   },
   "outputs": [
    {
     "data": {
      "text/plain": [
       "np.int64(0)"
      ]
     },
     "execution_count": 71,
     "metadata": {},
     "output_type": "execute_result"
    }
   ],
   "source": [
    "dados.loc[dados['tempo_experiencia_dados'].isna(), 'tempo_experiencia_dados'] = 'Não informado'\n",
    "dados['tempo_experiencia_dados'].isna().sum()"
   ]
  },
  {
   "cell_type": "markdown",
   "metadata": {
    "id": "LDPz51F6A0cx"
   },
   "source": [
    "#### `cargo_atual` e `nivel_profissional`\n",
    "\n",
    "> Cabe uma análise mais detalhada uma vez que estão amplamente correlacionados"
   ]
  },
  {
   "cell_type": "code",
   "execution_count": 72,
   "metadata": {
    "colab": {
     "base_uri": "https://localhost:8080/"
    },
    "id": "JwXposCXtN_t",
    "outputId": "1fd24b51-610c-4f96-863a-b8ed0f446ade"
   },
   "outputs": [
    {
     "data": {
      "text/plain": [
       "situacao_de_trabalho\n",
       "Empregado (CLT)                                                    52.503577\n",
       "Empreendedor ou Empregado (CNPJ)                                   15.593705\n",
       "Desempregado, buscando recolocação                                 14.663805\n",
       "Somente Estudante (graduação)                                       4.864092\n",
       "Trabalho na área Acadêmica/Pesquisador                              4.005722\n",
       "Servidor Público                                                    2.145923\n",
       "Somente Estudante (pós-graduação)                                   1.788269\n",
       "Vivo fora do Brasil e trabalho para empresa de fora do Brasil       1.502146\n",
       "Vivo no Brasil e trabalho remoto para empresa de fora do Brasil     1.216023\n",
       "Freelancer                                                          0.929900\n",
       "Prefiro não informar                                                0.572246\n",
       "Estagiário                                                          0.143062\n",
       "Desempregado e não estou buscando recolocação                       0.071531\n",
       "Name: count, dtype: float64"
      ]
     },
     "execution_count": 72,
     "metadata": {},
     "output_type": "execute_result"
    }
   ],
   "source": [
    "# Testando possível relação com coluna de situação de trabalho\n",
    "condicao = dados['cargo_atual'].isna() & dados['nivel_profissional'].isna()\n",
    "cargo_nivel_nulos = dados.loc[condicao, :]\n",
    "cargo_nivel_nulos['situacao_de_trabalho'].value_counts()/len(cargo_nivel_nulos) * 100"
   ]
  },
  {
   "cell_type": "markdown",
   "metadata": {
    "id": "PUCMHCZvCuL3"
   },
   "source": [
    "> Desempregados, estudantes e freelancers tem possível motivação para não ter dados associados nas colunas de cargo e nível, devido a sua atual posição\n",
    "\n",
    "> É cabível uma inputação personalizada para cada classe"
   ]
  },
  {
   "cell_type": "code",
   "execution_count": 73,
   "metadata": {
    "colab": {
     "base_uri": "https://localhost:8080/"
    },
    "id": "x95s6pxHB2Ye",
    "outputId": "bdb6d590-ef1a-4a75-810c-cbe65b04b1e5"
   },
   "outputs": [
    {
     "data": {
      "text/plain": [
       "np.int64(0)"
      ]
     },
     "execution_count": 73,
     "metadata": {},
     "output_type": "execute_result"
    }
   ],
   "source": [
    "# Função para classificar e inputar cargo atual com base na classe\n",
    "def classifica_cargo(linha):\n",
    "    if pd.isna(linha['cargo_atual']):\n",
    "        atual = linha['situacao_de_trabalho']\n",
    "\n",
    "        if atual in ['Desempregado, buscando recolocação', 'Desempregado e não estou buscando recolocação']:\n",
    "            return 'Desempregado'\n",
    "        elif atual in ['Somente Estudante (graduação)', 'Somente Estudante (pós-graduação)']:\n",
    "            return 'Estudante'\n",
    "        elif atual in ['Estagiário']:\n",
    "            return 'Estagiário'\n",
    "        elif atual in ['Freelancer']:\n",
    "            return 'Freelancer'\n",
    "        else:\n",
    "            return 'Não Informado'\n",
    "    else:\n",
    "        return linha['cargo_atual']\n",
    "\n",
    "dados['cargo_atual'] = dados.apply(classifica_cargo, axis=1)\n",
    "dados['cargo_atual'].isna().sum()"
   ]
  },
  {
   "cell_type": "code",
   "execution_count": 74,
   "metadata": {
    "colab": {
     "base_uri": "https://localhost:8080/"
    },
    "id": "1LJoGmpco1sK",
    "outputId": "c9235d98-38ef-4f13-a349-a792586b8fa6"
   },
   "outputs": [
    {
     "data": {
      "text/plain": [
       "tempo_experiencia_dados\n",
       "de 3 a 4 anos                             1386\n",
       "de 1 a 2 anos                              944\n",
       "de 5 a 6 anos                              830\n",
       "Mais de 10 anos                            584\n",
       "de 7 a 10 anos                             542\n",
       "Não informado                              354\n",
       "Menos de 1 ano                             346\n",
       "Não tenho experiência na área de dados     228\n",
       "Name: count, dtype: int64"
      ]
     },
     "execution_count": 74,
     "metadata": {},
     "output_type": "execute_result"
    }
   ],
   "source": [
    "dados['tempo_experiencia_dados'].value_counts()"
   ]
  },
  {
   "cell_type": "code",
   "execution_count": 75,
   "metadata": {
    "colab": {
     "base_uri": "https://localhost:8080/"
    },
    "id": "m1aThVEQEkZC",
    "outputId": "11ccc488-2518-4429-9e59-dab7322d96d5"
   },
   "outputs": [
    {
     "data": {
      "text/html": [
       "<div>\n",
       "<style scoped>\n",
       "    .dataframe tbody tr th:only-of-type {\n",
       "        vertical-align: middle;\n",
       "    }\n",
       "\n",
       "    .dataframe tbody tr th {\n",
       "        vertical-align: top;\n",
       "    }\n",
       "\n",
       "    .dataframe thead th {\n",
       "        text-align: right;\n",
       "    }\n",
       "</style>\n",
       "<table border=\"1\" class=\"dataframe\">\n",
       "  <thead>\n",
       "    <tr style=\"text-align: right;\">\n",
       "      <th>tempo_experiencia_dados</th>\n",
       "      <th>Mais de 10 anos</th>\n",
       "      <th>Menos de 1 ano</th>\n",
       "      <th>Não tenho experiência na área de dados</th>\n",
       "      <th>de 1 a 2 anos</th>\n",
       "      <th>de 3 a 4 anos</th>\n",
       "      <th>de 5 a 6 anos</th>\n",
       "      <th>de 7 a 10 anos</th>\n",
       "    </tr>\n",
       "    <tr>\n",
       "      <th>nivel_profissional</th>\n",
       "      <th></th>\n",
       "      <th></th>\n",
       "      <th></th>\n",
       "      <th></th>\n",
       "      <th></th>\n",
       "      <th></th>\n",
       "      <th></th>\n",
       "    </tr>\n",
       "  </thead>\n",
       "  <tbody>\n",
       "    <tr>\n",
       "      <th>Júnior</th>\n",
       "      <td>2</td>\n",
       "      <td>240</td>\n",
       "      <td>106</td>\n",
       "      <td>391</td>\n",
       "      <td>108</td>\n",
       "      <td>17</td>\n",
       "      <td>2</td>\n",
       "    </tr>\n",
       "    <tr>\n",
       "      <th>Pleno</th>\n",
       "      <td>23</td>\n",
       "      <td>52</td>\n",
       "      <td>47</td>\n",
       "      <td>380</td>\n",
       "      <td>689</td>\n",
       "      <td>140</td>\n",
       "      <td>46</td>\n",
       "    </tr>\n",
       "    <tr>\n",
       "      <th>Sênior</th>\n",
       "      <td>245</td>\n",
       "      <td>26</td>\n",
       "      <td>33</td>\n",
       "      <td>95</td>\n",
       "      <td>429</td>\n",
       "      <td>467</td>\n",
       "      <td>278</td>\n",
       "    </tr>\n",
       "  </tbody>\n",
       "</table>\n",
       "</div>"
      ],
      "text/plain": [
       "tempo_experiencia_dados  Mais de 10 anos  Menos de 1 ano  \\\n",
       "nivel_profissional                                         \n",
       "Júnior                                 2             240   \n",
       "Pleno                                 23              52   \n",
       "Sênior                               245              26   \n",
       "\n",
       "tempo_experiencia_dados  Não tenho experiência na área de dados  \\\n",
       "nivel_profissional                                                \n",
       "Júnior                                                      106   \n",
       "Pleno                                                        47   \n",
       "Sênior                                                       33   \n",
       "\n",
       "tempo_experiencia_dados  de 1 a 2 anos  de 3 a 4 anos  de 5 a 6 anos  \\\n",
       "nivel_profissional                                                     \n",
       "Júnior                             391            108             17   \n",
       "Pleno                              380            689            140   \n",
       "Sênior                              95            429            467   \n",
       "\n",
       "tempo_experiencia_dados  de 7 a 10 anos  \n",
       "nivel_profissional                       \n",
       "Júnior                                2  \n",
       "Pleno                                46  \n",
       "Sênior                              278  "
      ]
     },
     "execution_count": 75,
     "metadata": {},
     "output_type": "execute_result"
    }
   ],
   "source": [
    "# Associando o nível profissional com o tempo de experiência em dados\n",
    "pd.crosstab(dados['nivel_profissional'], dados['tempo_experiencia_dados'])"
   ]
  },
  {
   "cell_type": "markdown",
   "metadata": {
    "id": "WPNJhkJkHdiz"
   },
   "source": [
    "> A maioria dos júniores tem de menos de 1 ano até 2 anos de experiência (0-2)\n",
    "\n",
    "> A maioria dos plenos tem de 3-6 anos de experiência\n",
    "\n",
    "> A maioria dos sêniores, tem de 6 anos em diante em relação a experiência\n",
    "\n",
    "Assim, podemos elaborar um conjunto de condições para imputar o nível profissional com base nos dados de tempo de experiência:"
   ]
  },
  {
   "cell_type": "code",
   "execution_count": 76,
   "metadata": {
    "colab": {
     "base_uri": "https://localhost:8080/"
    },
    "id": "tpYb-L9EJU9r",
    "outputId": "79adbf6e-c949-434f-8078-645e462d1e3f"
   },
   "outputs": [
    {
     "data": {
      "text/plain": [
       "nivel_profissional\n",
       "Pleno            1743\n",
       "Sênior           1573\n",
       "Júnior            972\n",
       "Não informado     926\n",
       "Name: count, dtype: int64"
      ]
     },
     "execution_count": 76,
     "metadata": {},
     "output_type": "execute_result"
    }
   ],
   "source": [
    "# Função pra classificar o nível profisisonal com base no tempo de experiência para dados nulos\n",
    "def classifica_nivel(linha):\n",
    "    if pd.isna(linha['nivel_profissional']):\n",
    "        experiencia = linha['tempo_experiencia_dados']\n",
    "\n",
    "        if experiencia in ['Menos de 1 ano', 'de 1 a 2 anos']:\n",
    "            return 'Júnior'\n",
    "        elif experiencia in ['de 3 a 4 anos', 'de 5 a 6 anos']:\n",
    "            return 'Pleno'\n",
    "        elif experiencia in ['de 7 a 9 anos', 'de 10 a 12 anos']:\n",
    "            return 'Sênior'\n",
    "        else:\n",
    "            return 'Não informado'\n",
    "    else:\n",
    "        return linha['nivel_profissional']\n",
    "\n",
    "dados['nivel_profissional'] = dados.apply(classifica_nivel, axis=1)\n",
    "dados['nivel_profissional'].isna().sum()\n",
    "dados['nivel_profissional'].value_counts()"
   ]
  },
  {
   "cell_type": "markdown",
   "metadata": {
    "id": "lu0xfMRFqaOb"
   },
   "source": [
    "#### `setor`"
   ]
  },
  {
   "cell_type": "code",
   "execution_count": 77,
   "metadata": {
    "colab": {
     "base_uri": "https://localhost:8080/"
    },
    "id": "D_qJ-U4dqdiB",
    "outputId": "f7352c16-a7d0-465d-8cec-bd057bc096ee"
   },
   "outputs": [
    {
     "data": {
      "text/plain": [
       "cargo_atual\n",
       "Desempregado     205\n",
       "Estudante         93\n",
       "Não Informado     56\n",
       "Name: count, dtype: int64"
      ]
     },
     "execution_count": 77,
     "metadata": {},
     "output_type": "execute_result"
    }
   ],
   "source": [
    "setor_nulo = dados.loc[dados['setor'].isna(), :].copy()\n",
    "setor_nulo['cargo_atual'].value_counts()"
   ]
  },
  {
   "cell_type": "markdown",
   "metadata": {
    "id": "06k0NHxArbYp"
   },
   "source": [
    "> Novamente, assim como demonstrado nos gráficos de correlação de nulos e também nas células de análise de nulos das outras colunas, setor também possui dados em falta justamente para aqueles que não atuam na área (desempregados, estudantes, não informado)\n",
    "\n",
    "> Cabe uma inputação personalizada assim como nas demais colunas correlacionadas"
   ]
  },
  {
   "cell_type": "code",
   "execution_count": 78,
   "metadata": {
    "colab": {
     "base_uri": "https://localhost:8080/"
    },
    "id": "6wfGDde7rwPa",
    "outputId": "fb501018-2ac2-4141-c106-1cf15521fafb"
   },
   "outputs": [
    {
     "data": {
      "text/plain": [
       "np.int64(0)"
      ]
     },
     "execution_count": 78,
     "metadata": {},
     "output_type": "execute_result"
    }
   ],
   "source": [
    "dados.loc[dados['setor'].isna(), 'setor'] = 'Não informado'\n",
    "dados['setor'].isna().sum()"
   ]
  },
  {
   "cell_type": "markdown",
   "metadata": {
    "id": "uWuQ2YdOsNmC"
   },
   "source": [
    "#### `faixa_salarial`, `modelo_trabalho_atual`, `modelo_trabalho_ideal`\n",
    "\n",
    "> Assim como setor, os dados também estão correlacionados, de maneira a inputar valores personalizados para descrever o não registro destes dados"
   ]
  },
  {
   "cell_type": "code",
   "execution_count": 79,
   "metadata": {
    "colab": {
     "base_uri": "https://localhost:8080/"
    },
    "id": "QRtSBfnSsi4J",
    "outputId": "75631e00-9671-4245-8808-540bbf6db06c"
   },
   "outputs": [
    {
     "name": "stdout",
     "output_type": "stream",
     "text": [
      "True    5214\n",
      "Name: count, dtype: int64\n"
     ]
    }
   ],
   "source": [
    "faixa_nula = dados['faixa_salarial'].isna()\n",
    "modelos_nulos = dados['modelo_trabalho_atual'].isna() & dados['modelo_trabalho_ideal'].isna()\n",
    "\n",
    "comparacao = faixa_nula == modelos_nulos\n",
    "print(comparacao.value_counts()) # Mesmos dados"
   ]
  },
  {
   "cell_type": "code",
   "execution_count": 80,
   "metadata": {
    "colab": {
     "base_uri": "https://localhost:8080/"
    },
    "id": "5P_nBt2JtHmR",
    "outputId": "0ab76787-4d08-471d-94a3-6af4d3f5ea69"
   },
   "outputs": [
    {
     "data": {
      "text/plain": [
       "token                       0\n",
       "idade                       0\n",
       "genero                      0\n",
       "raca_cor_etnia              0\n",
       "pcd                         0\n",
       "uf_onde_mora                0\n",
       "vive_no_brasil              0\n",
       "pais_onde_mora              0\n",
       "nivel_de_ensino             0\n",
       "area_de_formacao           94\n",
       "situacao_de_trabalho        0\n",
       "setor                       0\n",
       "cargo_atual                 0\n",
       "nivel_profissional          0\n",
       "faixa_salarial              0\n",
       "tempo_experiencia_dados     0\n",
       "modelo_trabalho_atual       0\n",
       "modelo_trabalho_ideal       0\n",
       "dtype: int64"
      ]
     },
     "execution_count": 80,
     "metadata": {},
     "output_type": "execute_result"
    }
   ],
   "source": [
    "condicao = faixa_nula & modelos_nulos\n",
    "dados.loc[condicao, ['modelo_trabalho_atual', 'modelo_trabalho_ideal', 'faixa_salarial']] = 'Não informado'\n",
    "dados.isna().sum()"
   ]
  },
  {
   "cell_type": "markdown",
   "metadata": {
    "id": "oP6Upp-euKdC"
   },
   "source": [
    "#### `area_de_formacao`"
   ]
  },
  {
   "cell_type": "markdown",
   "metadata": {
    "id": "tKkHQfrEubBp"
   },
   "source": [
    "> Cabe a verificação de area de formação com a coluna `nivel_ensino`"
   ]
  },
  {
   "cell_type": "code",
   "execution_count": 81,
   "metadata": {
    "colab": {
     "base_uri": "https://localhost:8080/"
    },
    "id": "AV4PkAnBtr_i",
    "outputId": "d87a5f51-e3bd-4076-ff6a-88b8c6b5ef26"
   },
   "outputs": [
    {
     "data": {
      "text/plain": [
       "nivel_de_ensino\n",
       "Não tenho graduação formal    86\n",
       "Prefiro não informar           8\n",
       "Name: count, dtype: int64"
      ]
     },
     "execution_count": 81,
     "metadata": {},
     "output_type": "execute_result"
    }
   ],
   "source": [
    "formacao_nulos = dados.loc[dados['area_de_formacao'].isna(), :]\n",
    "formacao_nulos['nivel_de_ensino'].value_counts()"
   ]
  },
  {
   "cell_type": "markdown",
   "metadata": {
    "id": "nzNrNLq8uk3C"
   },
   "source": [
    "> Todos os dados de área de formação nulos são possivelmente de quem não tem uma graduação formal ou não quis informar\n",
    "\n",
    "> Novamente, cabe um input personalizado para estes valores:"
   ]
  },
  {
   "cell_type": "code",
   "execution_count": 82,
   "metadata": {
    "colab": {
     "base_uri": "https://localhost:8080/"
    },
    "id": "txJYgxf1QG0L",
    "outputId": "3e69d435-1f45-4cb0-d3a0-2079a2914b18"
   },
   "outputs": [
    {
     "data": {
      "text/plain": [
       "np.int64(0)"
      ]
     },
     "execution_count": 82,
     "metadata": {},
     "output_type": "execute_result"
    }
   ],
   "source": [
    "# Função pra classificar área de formação\n",
    "def classifica_area(linha):\n",
    "    if pd.isna(linha['area_de_formacao']):\n",
    "        nivel = linha['nivel_de_ensino']\n",
    "        if nivel in ['Não tenho graduação formal']:\n",
    "            return 'Sem graduação formal'\n",
    "        else:\n",
    "            return 'Não informado'\n",
    "    else:\n",
    "        return linha['area_de_formacao']\n",
    "\n",
    "dados['area_de_formacao'] = dados.apply(classifica_area, axis=1)\n",
    "dados['area_de_formacao'].isna().sum()"
   ]
  },
  {
   "cell_type": "code",
   "execution_count": 83,
   "metadata": {
    "colab": {
     "base_uri": "https://localhost:8080/"
    },
    "id": "o9ESgNUArq10",
    "outputId": "3964761f-39fe-4298-f6ce-b710bf30b9f8"
   },
   "outputs": [
    {
     "data": {
      "text/plain": [
       "token                      0\n",
       "idade                      0\n",
       "genero                     0\n",
       "raca_cor_etnia             0\n",
       "pcd                        0\n",
       "uf_onde_mora               0\n",
       "vive_no_brasil             0\n",
       "pais_onde_mora             0\n",
       "nivel_de_ensino            0\n",
       "area_de_formacao           0\n",
       "situacao_de_trabalho       0\n",
       "setor                      0\n",
       "cargo_atual                0\n",
       "nivel_profissional         0\n",
       "faixa_salarial             0\n",
       "tempo_experiencia_dados    0\n",
       "modelo_trabalho_atual      0\n",
       "modelo_trabalho_ideal      0\n",
       "dtype: int64"
      ]
     },
     "execution_count": 83,
     "metadata": {},
     "output_type": "execute_result"
    }
   ],
   "source": [
    "dados.isna().sum()"
   ]
  },
  {
   "cell_type": "markdown",
   "metadata": {
    "id": "OmRcl7upvqSa"
   },
   "source": [
    "> Todos o conjunto de dados teve o tratamento de nulos realizado"
   ]
  },
  {
   "cell_type": "markdown",
   "metadata": {
    "id": "UYnpB_flvvGL"
   },
   "source": [
    "### Verificação de duplicatas"
   ]
  },
  {
   "cell_type": "code",
   "execution_count": 84,
   "metadata": {
    "colab": {
     "base_uri": "https://localhost:8080/"
    },
    "id": "mP_iM9nyvxUR",
    "outputId": "2664d5b2-00c5-4745-a058-9d76cd080731"
   },
   "outputs": [
    {
     "data": {
      "text/plain": [
       "np.int64(2)"
      ]
     },
     "execution_count": 84,
     "metadata": {},
     "output_type": "execute_result"
    }
   ],
   "source": [
    "dados.duplicated(subset='token').sum()"
   ]
  },
  {
   "cell_type": "markdown",
   "metadata": {
    "id": "rXE8gUARv7a6"
   },
   "source": [
    "> Há 2 dados duplicados no dataset:"
   ]
  },
  {
   "cell_type": "code",
   "execution_count": 85,
   "metadata": {
    "colab": {
     "base_uri": "https://localhost:8080/"
    },
    "id": "FQnaPGVgv98B",
    "outputId": "3c6e8465-89ce-4f55-fae3-99a9abfb0f7d"
   },
   "outputs": [
    {
     "data": {
      "text/html": [
       "<div>\n",
       "<style scoped>\n",
       "    .dataframe tbody tr th:only-of-type {\n",
       "        vertical-align: middle;\n",
       "    }\n",
       "\n",
       "    .dataframe tbody tr th {\n",
       "        vertical-align: top;\n",
       "    }\n",
       "\n",
       "    .dataframe thead th {\n",
       "        text-align: right;\n",
       "    }\n",
       "</style>\n",
       "<table border=\"1\" class=\"dataframe\">\n",
       "  <thead>\n",
       "    <tr style=\"text-align: right;\">\n",
       "      <th></th>\n",
       "      <th>token</th>\n",
       "      <th>idade</th>\n",
       "      <th>genero</th>\n",
       "      <th>raca_cor_etnia</th>\n",
       "      <th>pcd</th>\n",
       "      <th>uf_onde_mora</th>\n",
       "      <th>vive_no_brasil</th>\n",
       "      <th>pais_onde_mora</th>\n",
       "      <th>nivel_de_ensino</th>\n",
       "      <th>area_de_formacao</th>\n",
       "      <th>situacao_de_trabalho</th>\n",
       "      <th>setor</th>\n",
       "      <th>cargo_atual</th>\n",
       "      <th>nivel_profissional</th>\n",
       "      <th>faixa_salarial</th>\n",
       "      <th>tempo_experiencia_dados</th>\n",
       "      <th>modelo_trabalho_atual</th>\n",
       "      <th>modelo_trabalho_ideal</th>\n",
       "    </tr>\n",
       "  </thead>\n",
       "  <tbody>\n",
       "    <tr>\n",
       "      <th>545</th>\n",
       "      <td>ald49tabosnu0wald4e57zebr5v7146b</td>\n",
       "      <td>24</td>\n",
       "      <td>Feminino</td>\n",
       "      <td>Parda</td>\n",
       "      <td>Não</td>\n",
       "      <td>SC</td>\n",
       "      <td>True</td>\n",
       "      <td>Brasil</td>\n",
       "      <td>Pós-graduação</td>\n",
       "      <td>Computação / Engenharia de Software / Sistemas...</td>\n",
       "      <td>Empregado (CLT)</td>\n",
       "      <td>Tecnologia/Fábrica de Software</td>\n",
       "      <td>Analista de Suporte/Analista Técnico</td>\n",
       "      <td>Pleno</td>\n",
       "      <td>de R$ 4.001/mês a R$ 6.000/mês</td>\n",
       "      <td>de 5 a 6 anos</td>\n",
       "      <td>Modelo híbrido flexível (o funcionário tem lib...</td>\n",
       "      <td>Modelo híbrido flexível (o funcionário tem lib...</td>\n",
       "    </tr>\n",
       "    <tr>\n",
       "      <th>546</th>\n",
       "      <td>ald49tabosnu0wald4e57zebr5v7146b</td>\n",
       "      <td>24</td>\n",
       "      <td>Feminino</td>\n",
       "      <td>Parda</td>\n",
       "      <td>Não</td>\n",
       "      <td>SC</td>\n",
       "      <td>True</td>\n",
       "      <td>Brasil</td>\n",
       "      <td>Pós-graduação</td>\n",
       "      <td>Computação / Engenharia de Software / Sistemas...</td>\n",
       "      <td>Empregado (CLT)</td>\n",
       "      <td>Tecnologia/Fábrica de Software</td>\n",
       "      <td>Analista de Suporte/Analista Técnico</td>\n",
       "      <td>Pleno</td>\n",
       "      <td>de R$ 4.001/mês a R$ 6.000/mês</td>\n",
       "      <td>de 5 a 6 anos</td>\n",
       "      <td>Modelo híbrido flexível (o funcionário tem lib...</td>\n",
       "      <td>Modelo híbrido flexível (o funcionário tem lib...</td>\n",
       "    </tr>\n",
       "    <tr>\n",
       "      <th>1042</th>\n",
       "      <td>lb7gt5hdqqxuguv2lb7gto44mpk3ejha</td>\n",
       "      <td>26</td>\n",
       "      <td>Masculino</td>\n",
       "      <td>Branca</td>\n",
       "      <td>Não</td>\n",
       "      <td>SP</td>\n",
       "      <td>True</td>\n",
       "      <td>Brasil</td>\n",
       "      <td>Graduação/Bacharelado</td>\n",
       "      <td>Computação / Engenharia de Software / Sistemas...</td>\n",
       "      <td>Vivo no Brasil e trabalho remoto para empresa ...</td>\n",
       "      <td>Área de Consultoria</td>\n",
       "      <td>Engenheiro de Dados/Data Engineer/Data Architect</td>\n",
       "      <td>Sênior</td>\n",
       "      <td>de R$ 30.001/mês a R$ 40.000/mês</td>\n",
       "      <td>de 7 a 10 anos</td>\n",
       "      <td>Modelo 100% remoto</td>\n",
       "      <td>Modelo 100% remoto</td>\n",
       "    </tr>\n",
       "    <tr>\n",
       "      <th>1043</th>\n",
       "      <td>lb7gt5hdqqxuguv2lb7gto44mpk3ejha</td>\n",
       "      <td>26</td>\n",
       "      <td>Masculino</td>\n",
       "      <td>Branca</td>\n",
       "      <td>Não</td>\n",
       "      <td>SP</td>\n",
       "      <td>True</td>\n",
       "      <td>Brasil</td>\n",
       "      <td>Graduação/Bacharelado</td>\n",
       "      <td>Computação / Engenharia de Software / Sistemas...</td>\n",
       "      <td>Vivo no Brasil e trabalho remoto para empresa ...</td>\n",
       "      <td>Área de Consultoria</td>\n",
       "      <td>Engenheiro de Dados/Data Engineer/Data Architect</td>\n",
       "      <td>Sênior</td>\n",
       "      <td>de R$ 30.001/mês a R$ 40.000/mês</td>\n",
       "      <td>de 7 a 10 anos</td>\n",
       "      <td>Modelo 100% remoto</td>\n",
       "      <td>Modelo 100% remoto</td>\n",
       "    </tr>\n",
       "  </tbody>\n",
       "</table>\n",
       "</div>"
      ],
      "text/plain": [
       "                                 token  idade     genero raca_cor_etnia  pcd  \\\n",
       "545   ald49tabosnu0wald4e57zebr5v7146b     24   Feminino          Parda  Não   \n",
       "546   ald49tabosnu0wald4e57zebr5v7146b     24   Feminino          Parda  Não   \n",
       "1042  lb7gt5hdqqxuguv2lb7gto44mpk3ejha     26  Masculino         Branca  Não   \n",
       "1043  lb7gt5hdqqxuguv2lb7gto44mpk3ejha     26  Masculino         Branca  Não   \n",
       "\n",
       "     uf_onde_mora  vive_no_brasil pais_onde_mora        nivel_de_ensino  \\\n",
       "545            SC            True         Brasil          Pós-graduação   \n",
       "546            SC            True         Brasil          Pós-graduação   \n",
       "1042           SP            True         Brasil  Graduação/Bacharelado   \n",
       "1043           SP            True         Brasil  Graduação/Bacharelado   \n",
       "\n",
       "                                       area_de_formacao  \\\n",
       "545   Computação / Engenharia de Software / Sistemas...   \n",
       "546   Computação / Engenharia de Software / Sistemas...   \n",
       "1042  Computação / Engenharia de Software / Sistemas...   \n",
       "1043  Computação / Engenharia de Software / Sistemas...   \n",
       "\n",
       "                                   situacao_de_trabalho  \\\n",
       "545                                     Empregado (CLT)   \n",
       "546                                     Empregado (CLT)   \n",
       "1042  Vivo no Brasil e trabalho remoto para empresa ...   \n",
       "1043  Vivo no Brasil e trabalho remoto para empresa ...   \n",
       "\n",
       "                               setor  \\\n",
       "545   Tecnologia/Fábrica de Software   \n",
       "546   Tecnologia/Fábrica de Software   \n",
       "1042             Área de Consultoria   \n",
       "1043             Área de Consultoria   \n",
       "\n",
       "                                           cargo_atual nivel_profissional  \\\n",
       "545               Analista de Suporte/Analista Técnico              Pleno   \n",
       "546               Analista de Suporte/Analista Técnico              Pleno   \n",
       "1042  Engenheiro de Dados/Data Engineer/Data Architect             Sênior   \n",
       "1043  Engenheiro de Dados/Data Engineer/Data Architect             Sênior   \n",
       "\n",
       "                        faixa_salarial tempo_experiencia_dados  \\\n",
       "545     de R$ 4.001/mês a R$ 6.000/mês           de 5 a 6 anos   \n",
       "546     de R$ 4.001/mês a R$ 6.000/mês           de 5 a 6 anos   \n",
       "1042  de R$ 30.001/mês a R$ 40.000/mês          de 7 a 10 anos   \n",
       "1043  de R$ 30.001/mês a R$ 40.000/mês          de 7 a 10 anos   \n",
       "\n",
       "                                  modelo_trabalho_atual  \\\n",
       "545   Modelo híbrido flexível (o funcionário tem lib...   \n",
       "546   Modelo híbrido flexível (o funcionário tem lib...   \n",
       "1042                                 Modelo 100% remoto   \n",
       "1043                                 Modelo 100% remoto   \n",
       "\n",
       "                                  modelo_trabalho_ideal  \n",
       "545   Modelo híbrido flexível (o funcionário tem lib...  \n",
       "546   Modelo híbrido flexível (o funcionário tem lib...  \n",
       "1042                                 Modelo 100% remoto  \n",
       "1043                                 Modelo 100% remoto  "
      ]
     },
     "execution_count": 85,
     "metadata": {},
     "output_type": "execute_result"
    }
   ],
   "source": [
    "dados[dados.duplicated(subset='token', keep=False)]"
   ]
  },
  {
   "cell_type": "markdown",
   "metadata": {
    "colab": {
     "base_uri": "https://localhost:8080/"
    },
    "id": "_I6g75oowPQa",
    "outputId": "06066447-9317-4853-a94a-475c7fcafa1b"
   },
   "source": [
    "# Removendo duplicatas:\n",
    "dados.drop_duplicates(subset='token', keep='first', inplace=True)\n",
    "dados.duplicated(subset='token').sum()"
   ]
  },
  {
   "cell_type": "markdown",
   "metadata": {
    "id": "LBTzXwSKwcbz"
   },
   "source": [
    "## 3) Criação de arquivo com dados tratados"
   ]
  },
  {
   "cell_type": "code",
   "execution_count": 86,
   "metadata": {
    "id": "yY7UGJDLwbuT"
   },
   "outputs": [],
   "source": [
    "dados_tratados = dados.copy()\n",
    "dados_tratados.to_csv('dados_tratados_pesquisa_datahackers20242025.csv', index=False, encoding='utf-8')"
   ]
  },
  {
   "cell_type": "code",
   "execution_count": 87,
   "metadata": {
    "colab": {
     "base_uri": "https://localhost:8080/"
    },
    "id": "Vk2_1JmBxubc",
    "outputId": "382b41d8-66a7-408f-84f6-d1c8a4a4f364"
   },
   "outputs": [
    {
     "data": {
      "text/html": [
       "<div>\n",
       "<style scoped>\n",
       "    .dataframe tbody tr th:only-of-type {\n",
       "        vertical-align: middle;\n",
       "    }\n",
       "\n",
       "    .dataframe tbody tr th {\n",
       "        vertical-align: top;\n",
       "    }\n",
       "\n",
       "    .dataframe thead th {\n",
       "        text-align: right;\n",
       "    }\n",
       "</style>\n",
       "<table border=\"1\" class=\"dataframe\">\n",
       "  <thead>\n",
       "    <tr style=\"text-align: right;\">\n",
       "      <th></th>\n",
       "      <th>token</th>\n",
       "      <th>idade</th>\n",
       "      <th>genero</th>\n",
       "      <th>raca_cor_etnia</th>\n",
       "      <th>pcd</th>\n",
       "      <th>uf_onde_mora</th>\n",
       "      <th>vive_no_brasil</th>\n",
       "      <th>pais_onde_mora</th>\n",
       "      <th>nivel_de_ensino</th>\n",
       "      <th>area_de_formacao</th>\n",
       "      <th>situacao_de_trabalho</th>\n",
       "      <th>setor</th>\n",
       "      <th>cargo_atual</th>\n",
       "      <th>nivel_profissional</th>\n",
       "      <th>faixa_salarial</th>\n",
       "      <th>tempo_experiencia_dados</th>\n",
       "      <th>modelo_trabalho_atual</th>\n",
       "      <th>modelo_trabalho_ideal</th>\n",
       "    </tr>\n",
       "  </thead>\n",
       "  <tbody>\n",
       "    <tr>\n",
       "      <th>0</th>\n",
       "      <td>reb94rv0msth7q4nreb94riaq80iz3yi</td>\n",
       "      <td>18</td>\n",
       "      <td>Masculino</td>\n",
       "      <td>Branca</td>\n",
       "      <td>Não</td>\n",
       "      <td>RS</td>\n",
       "      <td>True</td>\n",
       "      <td>Brasil</td>\n",
       "      <td>Estudante de Graduação</td>\n",
       "      <td>Computação / Engenharia de Software / Sistemas...</td>\n",
       "      <td>Estagiário</td>\n",
       "      <td>Marketing</td>\n",
       "      <td>Analista de Dados/Data Analyst</td>\n",
       "      <td>Júnior</td>\n",
       "      <td>de R$ 1.001/mês a R$ 2.000/mês</td>\n",
       "      <td>de 1 a 2 anos</td>\n",
       "      <td>Modelo 100% remoto</td>\n",
       "      <td>Modelo híbrido flexível (o funcionário tem lib...</td>\n",
       "    </tr>\n",
       "    <tr>\n",
       "      <th>1</th>\n",
       "      <td>1zc66g69jjt49y32l1zc66g8wqj79m4e</td>\n",
       "      <td>18</td>\n",
       "      <td>Masculino</td>\n",
       "      <td>Branca</td>\n",
       "      <td>Não</td>\n",
       "      <td>SC</td>\n",
       "      <td>True</td>\n",
       "      <td>Brasil</td>\n",
       "      <td>Estudante de Graduação</td>\n",
       "      <td>Computação / Engenharia de Software / Sistemas...</td>\n",
       "      <td>Estagiário</td>\n",
       "      <td>Finanças ou Bancos</td>\n",
       "      <td>Analista de BI/BI Analyst</td>\n",
       "      <td>Júnior</td>\n",
       "      <td>Menos de R$ 1.000/mês</td>\n",
       "      <td>Menos de 1 ano</td>\n",
       "      <td>Modelo 100% presencial</td>\n",
       "      <td>Modelo 100% presencial</td>\n",
       "    </tr>\n",
       "    <tr>\n",
       "      <th>2</th>\n",
       "      <td>uu99wmam4n5kc2uu99wmydf0rk7l58f7</td>\n",
       "      <td>18</td>\n",
       "      <td>Masculino</td>\n",
       "      <td>Parda</td>\n",
       "      <td>Não</td>\n",
       "      <td>SP</td>\n",
       "      <td>True</td>\n",
       "      <td>Brasil</td>\n",
       "      <td>Estudante de Graduação</td>\n",
       "      <td>Computação / Engenharia de Software / Sistemas...</td>\n",
       "      <td>Empregado (CLT)</td>\n",
       "      <td>Indústria</td>\n",
       "      <td>Outra Opção</td>\n",
       "      <td>Júnior</td>\n",
       "      <td>de R$ 1.001/mês a R$ 2.000/mês</td>\n",
       "      <td>Não tenho experiência na área de dados</td>\n",
       "      <td>Modelo 100% presencial</td>\n",
       "      <td>Modelo híbrido com dias fixos de trabalho pres...</td>\n",
       "    </tr>\n",
       "    <tr>\n",
       "      <th>3</th>\n",
       "      <td>3ynsw7z0hl5hhpbfvaeqk73ynsw7z04l</td>\n",
       "      <td>18</td>\n",
       "      <td>Masculino</td>\n",
       "      <td>Branca</td>\n",
       "      <td>Não</td>\n",
       "      <td>SP</td>\n",
       "      <td>True</td>\n",
       "      <td>Brasil</td>\n",
       "      <td>Estudante de Graduação</td>\n",
       "      <td>Computação / Engenharia de Software / Sistemas...</td>\n",
       "      <td>Estagiário</td>\n",
       "      <td>Tecnologia/Fábrica de Software</td>\n",
       "      <td>Analista de Dados/Data Analyst</td>\n",
       "      <td>Júnior</td>\n",
       "      <td>de R$ 1.001/mês a R$ 2.000/mês</td>\n",
       "      <td>Menos de 1 ano</td>\n",
       "      <td>Modelo híbrido flexível (o funcionário tem lib...</td>\n",
       "      <td>Modelo híbrido flexível (o funcionário tem lib...</td>\n",
       "    </tr>\n",
       "    <tr>\n",
       "      <th>4</th>\n",
       "      <td>v6bji2ct5xckpl1uouv6bjiotkrf3b4f</td>\n",
       "      <td>18</td>\n",
       "      <td>Masculino</td>\n",
       "      <td>Branca</td>\n",
       "      <td>Não</td>\n",
       "      <td>SP</td>\n",
       "      <td>True</td>\n",
       "      <td>Brasil</td>\n",
       "      <td>Estudante de Graduação</td>\n",
       "      <td>Computação / Engenharia de Software / Sistemas...</td>\n",
       "      <td>Estagiário</td>\n",
       "      <td>Tecnologia/Fábrica de Software</td>\n",
       "      <td>Desenvolvedor/ Engenheiro de Software/ Analist...</td>\n",
       "      <td>Júnior</td>\n",
       "      <td>de R$ 1.001/mês a R$ 2.000/mês</td>\n",
       "      <td>Menos de 1 ano</td>\n",
       "      <td>Modelo 100% remoto</td>\n",
       "      <td>Modelo híbrido flexível (o funcionário tem lib...</td>\n",
       "    </tr>\n",
       "    <tr>\n",
       "      <th>...</th>\n",
       "      <td>...</td>\n",
       "      <td>...</td>\n",
       "      <td>...</td>\n",
       "      <td>...</td>\n",
       "      <td>...</td>\n",
       "      <td>...</td>\n",
       "      <td>...</td>\n",
       "      <td>...</td>\n",
       "      <td>...</td>\n",
       "      <td>...</td>\n",
       "      <td>...</td>\n",
       "      <td>...</td>\n",
       "      <td>...</td>\n",
       "      <td>...</td>\n",
       "      <td>...</td>\n",
       "      <td>...</td>\n",
       "      <td>...</td>\n",
       "      <td>...</td>\n",
       "    </tr>\n",
       "    <tr>\n",
       "      <th>5209</th>\n",
       "      <td>veww9tlgwe9y7hytd0c3vveww9t59ax8</td>\n",
       "      <td>66</td>\n",
       "      <td>Feminino</td>\n",
       "      <td>Branca</td>\n",
       "      <td>Não</td>\n",
       "      <td>RS</td>\n",
       "      <td>True</td>\n",
       "      <td>Brasil</td>\n",
       "      <td>Graduação/Bacharelado</td>\n",
       "      <td>Computação / Engenharia de Software / Sistemas...</td>\n",
       "      <td>Empreendedor ou Empregado (CNPJ)</td>\n",
       "      <td>Área de Consultoria</td>\n",
       "      <td>Não Informado</td>\n",
       "      <td>Não informado</td>\n",
       "      <td>de R$ 20.001/mês a R$ 25.000/mês</td>\n",
       "      <td>Mais de 10 anos</td>\n",
       "      <td>Modelo híbrido flexível (o funcionário tem lib...</td>\n",
       "      <td>Modelo híbrido flexível (o funcionário tem lib...</td>\n",
       "    </tr>\n",
       "    <tr>\n",
       "      <th>5210</th>\n",
       "      <td>3hjvbhcxbidqvxvp9f2nfvgv3hjvbhcx</td>\n",
       "      <td>66</td>\n",
       "      <td>Masculino</td>\n",
       "      <td>Branca</td>\n",
       "      <td>Não</td>\n",
       "      <td>DF</td>\n",
       "      <td>True</td>\n",
       "      <td>Brasil</td>\n",
       "      <td>Mestrado</td>\n",
       "      <td>Computação / Engenharia de Software / Sistemas...</td>\n",
       "      <td>Empreendedor ou Empregado (CNPJ)</td>\n",
       "      <td>Tecnologia/Fábrica de Software</td>\n",
       "      <td>Cientista de Dados/Data Scientist</td>\n",
       "      <td>Sênior</td>\n",
       "      <td>de R$ 12.001/mês a R$ 16.000/mês</td>\n",
       "      <td>de 5 a 6 anos</td>\n",
       "      <td>Modelo 100% remoto</td>\n",
       "      <td>Modelo híbrido flexível (o funcionário tem lib...</td>\n",
       "    </tr>\n",
       "    <tr>\n",
       "      <th>5211</th>\n",
       "      <td>tq6orpcm1xrea9ffmq9fxtq6orpwurr4</td>\n",
       "      <td>68</td>\n",
       "      <td>Feminino</td>\n",
       "      <td>Parda</td>\n",
       "      <td>Não</td>\n",
       "      <td>PE</td>\n",
       "      <td>True</td>\n",
       "      <td>Brasil</td>\n",
       "      <td>Pós-graduação</td>\n",
       "      <td>Ciências Biológicas/ Farmácia/ Medicina/ Área ...</td>\n",
       "      <td>Desempregado, buscando recolocação</td>\n",
       "      <td>Não informado</td>\n",
       "      <td>Desempregado</td>\n",
       "      <td>Não informado</td>\n",
       "      <td>Não informado</td>\n",
       "      <td>Não informado</td>\n",
       "      <td>Não informado</td>\n",
       "      <td>Não informado</td>\n",
       "    </tr>\n",
       "    <tr>\n",
       "      <th>5212</th>\n",
       "      <td>lei4nn214phk0e14zlei4nt7aiqcdf4l</td>\n",
       "      <td>68</td>\n",
       "      <td>Masculino</td>\n",
       "      <td>Parda</td>\n",
       "      <td>Não</td>\n",
       "      <td>SP</td>\n",
       "      <td>True</td>\n",
       "      <td>Brasil</td>\n",
       "      <td>Pós-graduação</td>\n",
       "      <td>Economia/ Administração / Contabilidade / Fina...</td>\n",
       "      <td>Empreendedor ou Empregado (CNPJ)</td>\n",
       "      <td>Área de Consultoria</td>\n",
       "      <td>Não Informado</td>\n",
       "      <td>Não informado</td>\n",
       "      <td>Acima de R$ 40.001/mês</td>\n",
       "      <td>Mais de 10 anos</td>\n",
       "      <td>Modelo híbrido flexível (o funcionário tem lib...</td>\n",
       "      <td>Modelo híbrido flexível (o funcionário tem lib...</td>\n",
       "    </tr>\n",
       "    <tr>\n",
       "      <th>5213</th>\n",
       "      <td>ohp2uvrfl21srlyo7cohp2u57sox2mdi</td>\n",
       "      <td>68</td>\n",
       "      <td>Feminino</td>\n",
       "      <td>Parda</td>\n",
       "      <td>Não</td>\n",
       "      <td>PE</td>\n",
       "      <td>True</td>\n",
       "      <td>Brasil</td>\n",
       "      <td>Pós-graduação</td>\n",
       "      <td>Ciências Biológicas/ Farmácia/ Medicina/ Área ...</td>\n",
       "      <td>Somente Estudante (pós-graduação)</td>\n",
       "      <td>Não informado</td>\n",
       "      <td>Estudante</td>\n",
       "      <td>Não informado</td>\n",
       "      <td>Não informado</td>\n",
       "      <td>Não informado</td>\n",
       "      <td>Não informado</td>\n",
       "      <td>Não informado</td>\n",
       "    </tr>\n",
       "  </tbody>\n",
       "</table>\n",
       "<p>5214 rows × 18 columns</p>\n",
       "</div>"
      ],
      "text/plain": [
       "                                 token  idade     genero raca_cor_etnia  pcd  \\\n",
       "0     reb94rv0msth7q4nreb94riaq80iz3yi     18  Masculino         Branca  Não   \n",
       "1     1zc66g69jjt49y32l1zc66g8wqj79m4e     18  Masculino         Branca  Não   \n",
       "2     uu99wmam4n5kc2uu99wmydf0rk7l58f7     18  Masculino          Parda  Não   \n",
       "3     3ynsw7z0hl5hhpbfvaeqk73ynsw7z04l     18  Masculino         Branca  Não   \n",
       "4     v6bji2ct5xckpl1uouv6bjiotkrf3b4f     18  Masculino         Branca  Não   \n",
       "...                                ...    ...        ...            ...  ...   \n",
       "5209  veww9tlgwe9y7hytd0c3vveww9t59ax8     66   Feminino         Branca  Não   \n",
       "5210  3hjvbhcxbidqvxvp9f2nfvgv3hjvbhcx     66  Masculino         Branca  Não   \n",
       "5211  tq6orpcm1xrea9ffmq9fxtq6orpwurr4     68   Feminino          Parda  Não   \n",
       "5212  lei4nn214phk0e14zlei4nt7aiqcdf4l     68  Masculino          Parda  Não   \n",
       "5213  ohp2uvrfl21srlyo7cohp2u57sox2mdi     68   Feminino          Parda  Não   \n",
       "\n",
       "     uf_onde_mora  vive_no_brasil pais_onde_mora         nivel_de_ensino  \\\n",
       "0              RS            True         Brasil  Estudante de Graduação   \n",
       "1              SC            True         Brasil  Estudante de Graduação   \n",
       "2              SP            True         Brasil  Estudante de Graduação   \n",
       "3              SP            True         Brasil  Estudante de Graduação   \n",
       "4              SP            True         Brasil  Estudante de Graduação   \n",
       "...           ...             ...            ...                     ...   \n",
       "5209           RS            True         Brasil   Graduação/Bacharelado   \n",
       "5210           DF            True         Brasil                Mestrado   \n",
       "5211           PE            True         Brasil           Pós-graduação   \n",
       "5212           SP            True         Brasil           Pós-graduação   \n",
       "5213           PE            True         Brasil           Pós-graduação   \n",
       "\n",
       "                                       area_de_formacao  \\\n",
       "0     Computação / Engenharia de Software / Sistemas...   \n",
       "1     Computação / Engenharia de Software / Sistemas...   \n",
       "2     Computação / Engenharia de Software / Sistemas...   \n",
       "3     Computação / Engenharia de Software / Sistemas...   \n",
       "4     Computação / Engenharia de Software / Sistemas...   \n",
       "...                                                 ...   \n",
       "5209  Computação / Engenharia de Software / Sistemas...   \n",
       "5210  Computação / Engenharia de Software / Sistemas...   \n",
       "5211  Ciências Biológicas/ Farmácia/ Medicina/ Área ...   \n",
       "5212  Economia/ Administração / Contabilidade / Fina...   \n",
       "5213  Ciências Biológicas/ Farmácia/ Medicina/ Área ...   \n",
       "\n",
       "                    situacao_de_trabalho                           setor  \\\n",
       "0                             Estagiário                       Marketing   \n",
       "1                             Estagiário              Finanças ou Bancos   \n",
       "2                        Empregado (CLT)                       Indústria   \n",
       "3                             Estagiário  Tecnologia/Fábrica de Software   \n",
       "4                             Estagiário  Tecnologia/Fábrica de Software   \n",
       "...                                  ...                             ...   \n",
       "5209    Empreendedor ou Empregado (CNPJ)             Área de Consultoria   \n",
       "5210    Empreendedor ou Empregado (CNPJ)  Tecnologia/Fábrica de Software   \n",
       "5211  Desempregado, buscando recolocação                   Não informado   \n",
       "5212    Empreendedor ou Empregado (CNPJ)             Área de Consultoria   \n",
       "5213   Somente Estudante (pós-graduação)                   Não informado   \n",
       "\n",
       "                                            cargo_atual nivel_profissional  \\\n",
       "0                        Analista de Dados/Data Analyst             Júnior   \n",
       "1                             Analista de BI/BI Analyst             Júnior   \n",
       "2                                           Outra Opção             Júnior   \n",
       "3                        Analista de Dados/Data Analyst             Júnior   \n",
       "4     Desenvolvedor/ Engenheiro de Software/ Analist...             Júnior   \n",
       "...                                                 ...                ...   \n",
       "5209                                      Não Informado      Não informado   \n",
       "5210                  Cientista de Dados/Data Scientist             Sênior   \n",
       "5211                                       Desempregado      Não informado   \n",
       "5212                                      Não Informado      Não informado   \n",
       "5213                                          Estudante      Não informado   \n",
       "\n",
       "                        faixa_salarial  \\\n",
       "0       de R$ 1.001/mês a R$ 2.000/mês   \n",
       "1                Menos de R$ 1.000/mês   \n",
       "2       de R$ 1.001/mês a R$ 2.000/mês   \n",
       "3       de R$ 1.001/mês a R$ 2.000/mês   \n",
       "4       de R$ 1.001/mês a R$ 2.000/mês   \n",
       "...                                ...   \n",
       "5209  de R$ 20.001/mês a R$ 25.000/mês   \n",
       "5210  de R$ 12.001/mês a R$ 16.000/mês   \n",
       "5211                     Não informado   \n",
       "5212            Acima de R$ 40.001/mês   \n",
       "5213                     Não informado   \n",
       "\n",
       "                     tempo_experiencia_dados  \\\n",
       "0                              de 1 a 2 anos   \n",
       "1                             Menos de 1 ano   \n",
       "2     Não tenho experiência na área de dados   \n",
       "3                             Menos de 1 ano   \n",
       "4                             Menos de 1 ano   \n",
       "...                                      ...   \n",
       "5209                         Mais de 10 anos   \n",
       "5210                           de 5 a 6 anos   \n",
       "5211                           Não informado   \n",
       "5212                         Mais de 10 anos   \n",
       "5213                           Não informado   \n",
       "\n",
       "                                  modelo_trabalho_atual  \\\n",
       "0                                    Modelo 100% remoto   \n",
       "1                                Modelo 100% presencial   \n",
       "2                                Modelo 100% presencial   \n",
       "3     Modelo híbrido flexível (o funcionário tem lib...   \n",
       "4                                    Modelo 100% remoto   \n",
       "...                                                 ...   \n",
       "5209  Modelo híbrido flexível (o funcionário tem lib...   \n",
       "5210                                 Modelo 100% remoto   \n",
       "5211                                      Não informado   \n",
       "5212  Modelo híbrido flexível (o funcionário tem lib...   \n",
       "5213                                      Não informado   \n",
       "\n",
       "                                  modelo_trabalho_ideal  \n",
       "0     Modelo híbrido flexível (o funcionário tem lib...  \n",
       "1                                Modelo 100% presencial  \n",
       "2     Modelo híbrido com dias fixos de trabalho pres...  \n",
       "3     Modelo híbrido flexível (o funcionário tem lib...  \n",
       "4     Modelo híbrido flexível (o funcionário tem lib...  \n",
       "...                                                 ...  \n",
       "5209  Modelo híbrido flexível (o funcionário tem lib...  \n",
       "5210  Modelo híbrido flexível (o funcionário tem lib...  \n",
       "5211                                      Não informado  \n",
       "5212  Modelo híbrido flexível (o funcionário tem lib...  \n",
       "5213                                      Não informado  \n",
       "\n",
       "[5214 rows x 18 columns]"
      ]
     },
     "execution_count": 87,
     "metadata": {},
     "output_type": "execute_result"
    }
   ],
   "source": [
    "teste = pd.read_csv('dados_tratados_pesquisa_datahackers20242025.csv')\n",
    "teste"
   ]
  }
 ],
 "metadata": {
  "colab": {
   "collapsed_sections": [
    "dnNqDAneGyO0",
    "0z-aEXgNTMsu",
    "jbnsAYI1YEmA",
    "48Z3Xpf-ZKmA"
   ],
   "provenance": []
  },
  "kernelspec": {
   "display_name": "Python 3 (ipykernel)",
   "language": "python",
   "name": "python3"
  },
  "language_info": {
   "codemirror_mode": {
    "name": "ipython",
    "version": 3
   },
   "file_extension": ".py",
   "mimetype": "text/x-python",
   "name": "python",
   "nbconvert_exporter": "python",
   "pygments_lexer": "ipython3",
   "version": "3.13.5"
  }
 },
 "nbformat": 4,
 "nbformat_minor": 4
}
